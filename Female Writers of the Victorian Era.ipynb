{
 "cells": [
  {
   "cell_type": "markdown",
   "metadata": {},
   "source": [
    "# Female Writers of the Victorian Era"
   ]
  },
  {
   "cell_type": "markdown",
   "metadata": {},
   "source": [
    "Using data obtained from the Circulating Library, we hope to answer the following questions:\n",
    "\n",
    "1. What proportion of writers of Victorian fiction were women?\n",
    "\n",
    "2. What proportion of Victorian fiction titles were written by women?\n",
    "\n",
    "3. What proportion of female writers of Victorian fiction favored a pseudonym?\n",
    "\n",
    "4. Were there any publishing houses which published mostly women?\n"
   ]
  },
  {
   "cell_type": "markdown",
   "metadata": {},
   "source": [
    "### 1. Load and Explore Data"
   ]
  },
  {
   "cell_type": "code",
   "execution_count": 191,
   "metadata": {},
   "outputs": [],
   "source": [
    "#import relevent packages\n",
    "import pandas as pd\n",
    "import numpy as np\n",
    "import matplotlib.pyplot as plt\n",
    "import seaborn as sns\n",
    "import requests\n",
    "from io import StringIO"
   ]
  },
  {
   "cell_type": "code",
   "execution_count": 192,
   "metadata": {},
   "outputs": [],
   "source": [
    "id_authors = '1tPv6wT47emMZeHji7lK5xyLYPpCwfjC-'\n",
    "id_titles = '1lr1jyzmaNLS8XWT_RzOgQg1pgQSA44F5'\n",
    "\n",
    "download = 'https://drive.google.com/uc?export=download&id='\n",
    "\n",
    "path_authors = download + id_authors\n",
    "path_titles = download + id_titles\n",
    "\n",
    "raw_authors = StringIO(requests.get(path_authors).text)\n",
    "raw_titles = StringIO(requests.get(path_titles).text)"
   ]
  },
  {
   "cell_type": "code",
   "execution_count": 193,
   "metadata": {},
   "outputs": [],
   "source": [
    "#read in the authors dataframe\n",
    "authors = pd.read_csv(raw_authors)"
   ]
  },
  {
   "cell_type": "code",
   "execution_count": 194,
   "metadata": {},
   "outputs": [
    {
     "data": {
      "text/html": [
       "<div>\n",
       "<style scoped>\n",
       "    .dataframe tbody tr th:only-of-type {\n",
       "        vertical-align: middle;\n",
       "    }\n",
       "\n",
       "    .dataframe tbody tr th {\n",
       "        vertical-align: top;\n",
       "    }\n",
       "\n",
       "    .dataframe thead th {\n",
       "        text-align: right;\n",
       "    }\n",
       "</style>\n",
       "<table border=\"1\" class=\"dataframe\">\n",
       "  <thead>\n",
       "    <tr style=\"text-align: right;\">\n",
       "      <th></th>\n",
       "      <th>author_id</th>\n",
       "      <th>first_name</th>\n",
       "      <th>middle_name</th>\n",
       "      <th>last_name</th>\n",
       "      <th>alt_name</th>\n",
       "      <th>birth_year</th>\n",
       "      <th>death_year</th>\n",
       "      <th>gender</th>\n",
       "    </tr>\n",
       "  </thead>\n",
       "  <tbody>\n",
       "    <tr>\n",
       "      <td>0</td>\n",
       "      <td>1</td>\n",
       "      <td>NaN</td>\n",
       "      <td>NaN</td>\n",
       "      <td>Anonymous</td>\n",
       "      <td>Anon. (abbreviation)</td>\n",
       "      <td>NaN</td>\n",
       "      <td>NaN</td>\n",
       "      <td>U</td>\n",
       "    </tr>\n",
       "    <tr>\n",
       "      <td>1</td>\n",
       "      <td>2</td>\n",
       "      <td>Henry</td>\n",
       "      <td>Robert</td>\n",
       "      <td>Addison</td>\n",
       "      <td>NaN</td>\n",
       "      <td>1805.0</td>\n",
       "      <td>1876.0</td>\n",
       "      <td>M</td>\n",
       "    </tr>\n",
       "    <tr>\n",
       "      <td>2</td>\n",
       "      <td>3</td>\n",
       "      <td>Hamilton</td>\n",
       "      <td>NaN</td>\n",
       "      <td>AidÃ©</td>\n",
       "      <td>Charles Hamilton AidÃ© (legal name)</td>\n",
       "      <td>1826.0</td>\n",
       "      <td>1906.0</td>\n",
       "      <td>M</td>\n",
       "    </tr>\n",
       "    <tr>\n",
       "      <td>3</td>\n",
       "      <td>4</td>\n",
       "      <td>Gustave</td>\n",
       "      <td>NaN</td>\n",
       "      <td>Aimard</td>\n",
       "      <td>(pseudonym); Oliver Glaux (legal name)</td>\n",
       "      <td>1818.0</td>\n",
       "      <td>1883.0</td>\n",
       "      <td>M</td>\n",
       "    </tr>\n",
       "    <tr>\n",
       "      <td>4</td>\n",
       "      <td>5</td>\n",
       "      <td>William</td>\n",
       "      <td>Harrison</td>\n",
       "      <td>Ainsworth</td>\n",
       "      <td>Will Brown (pseudonym)</td>\n",
       "      <td>1805.0</td>\n",
       "      <td>1882.0</td>\n",
       "      <td>M</td>\n",
       "    </tr>\n",
       "  </tbody>\n",
       "</table>\n",
       "</div>"
      ],
      "text/plain": [
       "   author_id first_name middle_name  last_name  \\\n",
       "0          1        NaN         NaN  Anonymous   \n",
       "1          2      Henry      Robert    Addison   \n",
       "2          3   Hamilton         NaN      AidÃ©   \n",
       "3          4    Gustave         NaN     Aimard   \n",
       "4          5    William    Harrison  Ainsworth   \n",
       "\n",
       "                                 alt_name  birth_year  death_year gender  \n",
       "0                    Anon. (abbreviation)         NaN         NaN      U  \n",
       "1                                     NaN      1805.0      1876.0      M  \n",
       "2     Charles Hamilton AidÃ© (legal name)      1826.0      1906.0      M  \n",
       "3  (pseudonym); Oliver Glaux (legal name)      1818.0      1883.0      M  \n",
       "4                  Will Brown (pseudonym)      1805.0      1882.0      M  "
      ]
     },
     "execution_count": 194,
     "metadata": {},
     "output_type": "execute_result"
    }
   ],
   "source": [
    "#explore data\n",
    "authors.head()"
   ]
  },
  {
   "cell_type": "code",
   "execution_count": 195,
   "metadata": {},
   "outputs": [
    {
     "data": {
      "text/html": [
       "<div>\n",
       "<style scoped>\n",
       "    .dataframe tbody tr th:only-of-type {\n",
       "        vertical-align: middle;\n",
       "    }\n",
       "\n",
       "    .dataframe tbody tr th {\n",
       "        vertical-align: top;\n",
       "    }\n",
       "\n",
       "    .dataframe thead th {\n",
       "        text-align: right;\n",
       "    }\n",
       "</style>\n",
       "<table border=\"1\" class=\"dataframe\">\n",
       "  <thead>\n",
       "    <tr style=\"text-align: right;\">\n",
       "      <th></th>\n",
       "      <th>count</th>\n",
       "      <th>mean</th>\n",
       "      <th>std</th>\n",
       "      <th>min</th>\n",
       "      <th>25%</th>\n",
       "      <th>50%</th>\n",
       "      <th>75%</th>\n",
       "      <th>max</th>\n",
       "    </tr>\n",
       "  </thead>\n",
       "  <tbody>\n",
       "    <tr>\n",
       "      <td>author_id</td>\n",
       "      <td>4209.0</td>\n",
       "      <td>2213.025184</td>\n",
       "      <td>1258.614225</td>\n",
       "      <td>1.0</td>\n",
       "      <td>1121.0</td>\n",
       "      <td>2236.0</td>\n",
       "      <td>3303.0</td>\n",
       "      <td>4359.0</td>\n",
       "    </tr>\n",
       "    <tr>\n",
       "      <td>birth_year</td>\n",
       "      <td>2729.0</td>\n",
       "      <td>1834.956028</td>\n",
       "      <td>23.459883</td>\n",
       "      <td>1746.0</td>\n",
       "      <td>1818.0</td>\n",
       "      <td>1839.0</td>\n",
       "      <td>1854.0</td>\n",
       "      <td>1893.0</td>\n",
       "    </tr>\n",
       "    <tr>\n",
       "      <td>death_year</td>\n",
       "      <td>2682.0</td>\n",
       "      <td>1903.370246</td>\n",
       "      <td>27.935259</td>\n",
       "      <td>1824.0</td>\n",
       "      <td>1883.0</td>\n",
       "      <td>1905.0</td>\n",
       "      <td>1926.0</td>\n",
       "      <td>1973.0</td>\n",
       "    </tr>\n",
       "  </tbody>\n",
       "</table>\n",
       "</div>"
      ],
      "text/plain": [
       "             count         mean          std     min     25%     50%     75%  \\\n",
       "author_id   4209.0  2213.025184  1258.614225     1.0  1121.0  2236.0  3303.0   \n",
       "birth_year  2729.0  1834.956028    23.459883  1746.0  1818.0  1839.0  1854.0   \n",
       "death_year  2682.0  1903.370246    27.935259  1824.0  1883.0  1905.0  1926.0   \n",
       "\n",
       "               max  \n",
       "author_id   4359.0  \n",
       "birth_year  1893.0  \n",
       "death_year  1973.0  "
      ]
     },
     "execution_count": 195,
     "metadata": {},
     "output_type": "execute_result"
    }
   ],
   "source": [
    "authors.describe().T"
   ]
  },
  {
   "cell_type": "code",
   "execution_count": 196,
   "metadata": {},
   "outputs": [
    {
     "name": "stdout",
     "output_type": "stream",
     "text": [
      "<class 'pandas.core.frame.DataFrame'>\n",
      "RangeIndex: 4209 entries, 0 to 4208\n",
      "Data columns (total 8 columns):\n",
      "author_id      4209 non-null int64\n",
      "first_name     4081 non-null object\n",
      "middle_name    2128 non-null object\n",
      "last_name      4208 non-null object\n",
      "alt_name       1591 non-null object\n",
      "birth_year     2729 non-null float64\n",
      "death_year     2682 non-null float64\n",
      "gender         4209 non-null object\n",
      "dtypes: float64(2), int64(1), object(5)\n",
      "memory usage: 263.2+ KB\n"
     ]
    }
   ],
   "source": [
    "#look at missing values\n",
    "authors.info()"
   ]
  },
  {
   "cell_type": "code",
   "execution_count": 197,
   "metadata": {},
   "outputs": [],
   "source": [
    "pseudonym = authors.alt_name.str.contains('pseudonym')\n",
    "pseudonym.fillna(False, inplace = True)\n",
    "pseudonym = pd.get_dummies(pseudonym, drop_first = True)\n",
    "authors['pseudonym'] = pseudonym"
   ]
  },
  {
   "cell_type": "code",
   "execution_count": 198,
   "metadata": {},
   "outputs": [],
   "source": [
    "#read in titles dataframe\n",
    "titles = pd.read_csv(raw_titles)"
   ]
  },
  {
   "cell_type": "code",
   "execution_count": 199,
   "metadata": {},
   "outputs": [
    {
     "data": {
      "text/html": [
       "<div>\n",
       "<style scoped>\n",
       "    .dataframe tbody tr th:only-of-type {\n",
       "        vertical-align: middle;\n",
       "    }\n",
       "\n",
       "    .dataframe tbody tr th {\n",
       "        vertical-align: top;\n",
       "    }\n",
       "\n",
       "    .dataframe thead th {\n",
       "        text-align: right;\n",
       "    }\n",
       "</style>\n",
       "<table border=\"1\" class=\"dataframe\">\n",
       "  <thead>\n",
       "    <tr style=\"text-align: right;\">\n",
       "      <th></th>\n",
       "      <th>title_id</th>\n",
       "      <th>author_id</th>\n",
       "      <th>title</th>\n",
       "      <th>volumes</th>\n",
       "      <th>publisher_location</th>\n",
       "      <th>publisher_name</th>\n",
       "      <th>publication_year</th>\n",
       "    </tr>\n",
       "  </thead>\n",
       "  <tbody>\n",
       "    <tr>\n",
       "      <td>0</td>\n",
       "      <td>1</td>\n",
       "      <td>45</td>\n",
       "      <td>Abbot's Cleve: or, Can It be Proved? A Novel</td>\n",
       "      <td>3</td>\n",
       "      <td>London</td>\n",
       "      <td>Tinsley Brothers</td>\n",
       "      <td>1864</td>\n",
       "    </tr>\n",
       "    <tr>\n",
       "      <td>1</td>\n",
       "      <td>2</td>\n",
       "      <td>58</td>\n",
       "      <td>Ada Fortescue: A Novel</td>\n",
       "      <td>3</td>\n",
       "      <td>London</td>\n",
       "      <td>T. C. Newby</td>\n",
       "      <td>1863</td>\n",
       "    </tr>\n",
       "    <tr>\n",
       "      <td>2</td>\n",
       "      <td>3</td>\n",
       "      <td>1</td>\n",
       "      <td>Ada Moore's Story: A Novel</td>\n",
       "      <td>3</td>\n",
       "      <td>London</td>\n",
       "      <td>Tinsley Brothers</td>\n",
       "      <td>1867</td>\n",
       "    </tr>\n",
       "    <tr>\n",
       "      <td>3</td>\n",
       "      <td>4</td>\n",
       "      <td>2</td>\n",
       "      <td>Behind the Curtain: A Novel</td>\n",
       "      <td>3</td>\n",
       "      <td>London</td>\n",
       "      <td>John Maxwell</td>\n",
       "      <td>1865</td>\n",
       "    </tr>\n",
       "    <tr>\n",
       "      <td>4</td>\n",
       "      <td>5</td>\n",
       "      <td>1495</td>\n",
       "      <td>The Agent of Broome Warren: A Novel</td>\n",
       "      <td>3</td>\n",
       "      <td>London</td>\n",
       "      <td>Bentley</td>\n",
       "      <td>1871</td>\n",
       "    </tr>\n",
       "  </tbody>\n",
       "</table>\n",
       "</div>"
      ],
      "text/plain": [
       "   title_id  author_id                                         title  volumes  \\\n",
       "0         1         45  Abbot's Cleve: or, Can It be Proved? A Novel        3   \n",
       "1         2         58                        Ada Fortescue: A Novel        3   \n",
       "2         3          1                    Ada Moore's Story: A Novel        3   \n",
       "3         4          2                   Behind the Curtain: A Novel        3   \n",
       "4         5       1495           The Agent of Broome Warren: A Novel        3   \n",
       "\n",
       "  publisher_location    publisher_name  publication_year  \n",
       "0             London  Tinsley Brothers              1864  \n",
       "1             London       T. C. Newby              1863  \n",
       "2             London  Tinsley Brothers              1867  \n",
       "3             London      John Maxwell              1865  \n",
       "4             London           Bentley              1871  "
      ]
     },
     "execution_count": 199,
     "metadata": {},
     "output_type": "execute_result"
    }
   ],
   "source": [
    "#explore data\n",
    "titles.head()"
   ]
  },
  {
   "cell_type": "code",
   "execution_count": 200,
   "metadata": {},
   "outputs": [
    {
     "data": {
      "text/html": [
       "<div>\n",
       "<style scoped>\n",
       "    .dataframe tbody tr th:only-of-type {\n",
       "        vertical-align: middle;\n",
       "    }\n",
       "\n",
       "    .dataframe tbody tr th {\n",
       "        vertical-align: top;\n",
       "    }\n",
       "\n",
       "    .dataframe thead th {\n",
       "        text-align: right;\n",
       "    }\n",
       "</style>\n",
       "<table border=\"1\" class=\"dataframe\">\n",
       "  <thead>\n",
       "    <tr style=\"text-align: right;\">\n",
       "      <th></th>\n",
       "      <th>count</th>\n",
       "      <th>mean</th>\n",
       "      <th>std</th>\n",
       "      <th>min</th>\n",
       "      <th>25%</th>\n",
       "      <th>50%</th>\n",
       "      <th>75%</th>\n",
       "      <th>max</th>\n",
       "    </tr>\n",
       "  </thead>\n",
       "  <tbody>\n",
       "    <tr>\n",
       "      <td>title_id</td>\n",
       "      <td>19912.0</td>\n",
       "      <td>10057.777722</td>\n",
       "      <td>5790.752696</td>\n",
       "      <td>1.0</td>\n",
       "      <td>5052.75</td>\n",
       "      <td>10074.5</td>\n",
       "      <td>15072.25</td>\n",
       "      <td>20063.0</td>\n",
       "    </tr>\n",
       "    <tr>\n",
       "      <td>author_id</td>\n",
       "      <td>19912.0</td>\n",
       "      <td>1694.191894</td>\n",
       "      <td>1341.092502</td>\n",
       "      <td>1.0</td>\n",
       "      <td>444.75</td>\n",
       "      <td>1464.0</td>\n",
       "      <td>2834.00</td>\n",
       "      <td>4359.0</td>\n",
       "    </tr>\n",
       "    <tr>\n",
       "      <td>volumes</td>\n",
       "      <td>19912.0</td>\n",
       "      <td>1.647198</td>\n",
       "      <td>0.877985</td>\n",
       "      <td>1.0</td>\n",
       "      <td>1.00</td>\n",
       "      <td>1.0</td>\n",
       "      <td>3.00</td>\n",
       "      <td>4.0</td>\n",
       "    </tr>\n",
       "    <tr>\n",
       "      <td>publication_year</td>\n",
       "      <td>19912.0</td>\n",
       "      <td>1879.650713</td>\n",
       "      <td>17.460224</td>\n",
       "      <td>1824.0</td>\n",
       "      <td>1868.00</td>\n",
       "      <td>1884.0</td>\n",
       "      <td>1894.00</td>\n",
       "      <td>1907.0</td>\n",
       "    </tr>\n",
       "  </tbody>\n",
       "</table>\n",
       "</div>"
      ],
      "text/plain": [
       "                    count          mean          std     min      25%  \\\n",
       "title_id          19912.0  10057.777722  5790.752696     1.0  5052.75   \n",
       "author_id         19912.0   1694.191894  1341.092502     1.0   444.75   \n",
       "volumes           19912.0      1.647198     0.877985     1.0     1.00   \n",
       "publication_year  19912.0   1879.650713    17.460224  1824.0  1868.00   \n",
       "\n",
       "                      50%       75%      max  \n",
       "title_id          10074.5  15072.25  20063.0  \n",
       "author_id          1464.0   2834.00   4359.0  \n",
       "volumes               1.0      3.00      4.0  \n",
       "publication_year   1884.0   1894.00   1907.0  "
      ]
     },
     "execution_count": 200,
     "metadata": {},
     "output_type": "execute_result"
    }
   ],
   "source": [
    "titles.describe().T"
   ]
  },
  {
   "cell_type": "code",
   "execution_count": 201,
   "metadata": {},
   "outputs": [
    {
     "name": "stdout",
     "output_type": "stream",
     "text": [
      "<class 'pandas.core.frame.DataFrame'>\n",
      "RangeIndex: 19912 entries, 0 to 19911\n",
      "Data columns (total 7 columns):\n",
      "title_id              19912 non-null int64\n",
      "author_id             19912 non-null int64\n",
      "title                 19912 non-null object\n",
      "volumes               19912 non-null int64\n",
      "publisher_location    19880 non-null object\n",
      "publisher_name        19910 non-null object\n",
      "publication_year      19912 non-null int64\n",
      "dtypes: int64(4), object(3)\n",
      "memory usage: 1.1+ MB\n"
     ]
    }
   ],
   "source": [
    "#look at missing values\n",
    "titles.info()"
   ]
  },
  {
   "cell_type": "code",
   "execution_count": 202,
   "metadata": {},
   "outputs": [
    {
     "data": {
      "text/html": [
       "<div>\n",
       "<style scoped>\n",
       "    .dataframe tbody tr th:only-of-type {\n",
       "        vertical-align: middle;\n",
       "    }\n",
       "\n",
       "    .dataframe tbody tr th {\n",
       "        vertical-align: top;\n",
       "    }\n",
       "\n",
       "    .dataframe thead th {\n",
       "        text-align: right;\n",
       "    }\n",
       "</style>\n",
       "<table border=\"1\" class=\"dataframe\">\n",
       "  <thead>\n",
       "    <tr style=\"text-align: right;\">\n",
       "      <th></th>\n",
       "      <th>title_id</th>\n",
       "      <th>author_id</th>\n",
       "      <th>title</th>\n",
       "      <th>volumes</th>\n",
       "      <th>publisher_location</th>\n",
       "      <th>publisher_name</th>\n",
       "      <th>publication_year</th>\n",
       "      <th>first_name</th>\n",
       "      <th>middle_name</th>\n",
       "      <th>last_name</th>\n",
       "      <th>alt_name</th>\n",
       "      <th>birth_year</th>\n",
       "      <th>death_year</th>\n",
       "      <th>gender</th>\n",
       "      <th>pseudonym</th>\n",
       "    </tr>\n",
       "  </thead>\n",
       "  <tbody>\n",
       "    <tr>\n",
       "      <td>0</td>\n",
       "      <td>1</td>\n",
       "      <td>45</td>\n",
       "      <td>Abbot's Cleve: or, Can It be Proved? A Novel</td>\n",
       "      <td>3</td>\n",
       "      <td>London</td>\n",
       "      <td>Tinsley Brothers</td>\n",
       "      <td>1864</td>\n",
       "      <td>Isabella</td>\n",
       "      <td>Neil</td>\n",
       "      <td>Harwood</td>\n",
       "      <td>Ross Neil (pseudonym)</td>\n",
       "      <td>1837.0</td>\n",
       "      <td>1888.0</td>\n",
       "      <td>F</td>\n",
       "      <td>1</td>\n",
       "    </tr>\n",
       "    <tr>\n",
       "      <td>1</td>\n",
       "      <td>107</td>\n",
       "      <td>45</td>\n",
       "      <td>Carleton Grange: A Novel</td>\n",
       "      <td>3</td>\n",
       "      <td>London</td>\n",
       "      <td>Tinsley Brothers</td>\n",
       "      <td>1866</td>\n",
       "      <td>Isabella</td>\n",
       "      <td>Neil</td>\n",
       "      <td>Harwood</td>\n",
       "      <td>Ross Neil (pseudonym)</td>\n",
       "      <td>1837.0</td>\n",
       "      <td>1888.0</td>\n",
       "      <td>F</td>\n",
       "      <td>1</td>\n",
       "    </tr>\n",
       "    <tr>\n",
       "      <td>2</td>\n",
       "      <td>319</td>\n",
       "      <td>45</td>\n",
       "      <td>The Heir Expectant</td>\n",
       "      <td>3</td>\n",
       "      <td>London</td>\n",
       "      <td>Hurst and Blackett</td>\n",
       "      <td>1870</td>\n",
       "      <td>Isabella</td>\n",
       "      <td>Neil</td>\n",
       "      <td>Harwood</td>\n",
       "      <td>Ross Neil (pseudonym)</td>\n",
       "      <td>1837.0</td>\n",
       "      <td>1888.0</td>\n",
       "      <td>F</td>\n",
       "      <td>1</td>\n",
       "    </tr>\n",
       "    <tr>\n",
       "      <td>3</td>\n",
       "      <td>359</td>\n",
       "      <td>45</td>\n",
       "      <td>Kathleen</td>\n",
       "      <td>3</td>\n",
       "      <td>London</td>\n",
       "      <td>Hurst and Blackett</td>\n",
       "      <td>1869</td>\n",
       "      <td>Isabella</td>\n",
       "      <td>Neil</td>\n",
       "      <td>Harwood</td>\n",
       "      <td>Ross Neil (pseudonym)</td>\n",
       "      <td>1837.0</td>\n",
       "      <td>1888.0</td>\n",
       "      <td>F</td>\n",
       "      <td>1</td>\n",
       "    </tr>\n",
       "    <tr>\n",
       "      <td>4</td>\n",
       "      <td>576</td>\n",
       "      <td>45</td>\n",
       "      <td>Raymond's Heroine</td>\n",
       "      <td>3</td>\n",
       "      <td>London</td>\n",
       "      <td>Hurst and Blackett</td>\n",
       "      <td>1867</td>\n",
       "      <td>Isabella</td>\n",
       "      <td>Neil</td>\n",
       "      <td>Harwood</td>\n",
       "      <td>Ross Neil (pseudonym)</td>\n",
       "      <td>1837.0</td>\n",
       "      <td>1888.0</td>\n",
       "      <td>F</td>\n",
       "      <td>1</td>\n",
       "    </tr>\n",
       "  </tbody>\n",
       "</table>\n",
       "</div>"
      ],
      "text/plain": [
       "   title_id  author_id                                         title  volumes  \\\n",
       "0         1         45  Abbot's Cleve: or, Can It be Proved? A Novel        3   \n",
       "1       107         45                      Carleton Grange: A Novel        3   \n",
       "2       319         45                            The Heir Expectant        3   \n",
       "3       359         45                                      Kathleen        3   \n",
       "4       576         45                             Raymond's Heroine        3   \n",
       "\n",
       "  publisher_location      publisher_name  publication_year first_name  \\\n",
       "0             London    Tinsley Brothers              1864   Isabella   \n",
       "1             London    Tinsley Brothers              1866   Isabella   \n",
       "2             London  Hurst and Blackett              1870   Isabella   \n",
       "3             London  Hurst and Blackett              1869   Isabella   \n",
       "4             London  Hurst and Blackett              1867   Isabella   \n",
       "\n",
       "  middle_name last_name               alt_name  birth_year  death_year gender  \\\n",
       "0        Neil   Harwood  Ross Neil (pseudonym)      1837.0      1888.0      F   \n",
       "1        Neil   Harwood  Ross Neil (pseudonym)      1837.0      1888.0      F   \n",
       "2        Neil   Harwood  Ross Neil (pseudonym)      1837.0      1888.0      F   \n",
       "3        Neil   Harwood  Ross Neil (pseudonym)      1837.0      1888.0      F   \n",
       "4        Neil   Harwood  Ross Neil (pseudonym)      1837.0      1888.0      F   \n",
       "\n",
       "   pseudonym  \n",
       "0          1  \n",
       "1          1  \n",
       "2          1  \n",
       "3          1  \n",
       "4          1  "
      ]
     },
     "execution_count": 202,
     "metadata": {},
     "output_type": "execute_result"
    }
   ],
   "source": [
    "df = titles.merge(authors, left_on = 'author_id', right_on = 'author_id')\n",
    "df.head()"
   ]
  },
  {
   "cell_type": "code",
   "execution_count": 203,
   "metadata": {},
   "outputs": [],
   "source": [
    "df['female'] = (df.gender == 'F')"
   ]
  },
  {
   "cell_type": "code",
   "execution_count": 204,
   "metadata": {},
   "outputs": [
    {
     "data": {
      "text/html": [
       "<div>\n",
       "<style scoped>\n",
       "    .dataframe tbody tr th:only-of-type {\n",
       "        vertical-align: middle;\n",
       "    }\n",
       "\n",
       "    .dataframe tbody tr th {\n",
       "        vertical-align: top;\n",
       "    }\n",
       "\n",
       "    .dataframe thead th {\n",
       "        text-align: right;\n",
       "    }\n",
       "</style>\n",
       "<table border=\"1\" class=\"dataframe\">\n",
       "  <thead>\n",
       "    <tr style=\"text-align: right;\">\n",
       "      <th></th>\n",
       "      <th>title_id</th>\n",
       "      <th>author_id</th>\n",
       "      <th>title</th>\n",
       "      <th>volumes</th>\n",
       "      <th>publisher_location</th>\n",
       "      <th>publisher_name</th>\n",
       "      <th>publication_year</th>\n",
       "      <th>first_name</th>\n",
       "      <th>middle_name</th>\n",
       "      <th>last_name</th>\n",
       "      <th>alt_name</th>\n",
       "      <th>birth_year</th>\n",
       "      <th>death_year</th>\n",
       "      <th>gender</th>\n",
       "      <th>pseudonym</th>\n",
       "      <th>female</th>\n",
       "    </tr>\n",
       "  </thead>\n",
       "  <tbody>\n",
       "    <tr>\n",
       "      <td>0</td>\n",
       "      <td>1</td>\n",
       "      <td>45</td>\n",
       "      <td>Abbot's Cleve: or, Can It be Proved? A Novel</td>\n",
       "      <td>3</td>\n",
       "      <td>London</td>\n",
       "      <td>Tinsley Brothers</td>\n",
       "      <td>1864</td>\n",
       "      <td>Isabella</td>\n",
       "      <td>Neil</td>\n",
       "      <td>Harwood</td>\n",
       "      <td>Ross Neil (pseudonym)</td>\n",
       "      <td>1837.0</td>\n",
       "      <td>1888.0</td>\n",
       "      <td>F</td>\n",
       "      <td>1</td>\n",
       "      <td>True</td>\n",
       "    </tr>\n",
       "    <tr>\n",
       "      <td>1</td>\n",
       "      <td>107</td>\n",
       "      <td>45</td>\n",
       "      <td>Carleton Grange: A Novel</td>\n",
       "      <td>3</td>\n",
       "      <td>London</td>\n",
       "      <td>Tinsley Brothers</td>\n",
       "      <td>1866</td>\n",
       "      <td>Isabella</td>\n",
       "      <td>Neil</td>\n",
       "      <td>Harwood</td>\n",
       "      <td>Ross Neil (pseudonym)</td>\n",
       "      <td>1837.0</td>\n",
       "      <td>1888.0</td>\n",
       "      <td>F</td>\n",
       "      <td>1</td>\n",
       "      <td>True</td>\n",
       "    </tr>\n",
       "    <tr>\n",
       "      <td>2</td>\n",
       "      <td>319</td>\n",
       "      <td>45</td>\n",
       "      <td>The Heir Expectant</td>\n",
       "      <td>3</td>\n",
       "      <td>London</td>\n",
       "      <td>Hurst and Blackett</td>\n",
       "      <td>1870</td>\n",
       "      <td>Isabella</td>\n",
       "      <td>Neil</td>\n",
       "      <td>Harwood</td>\n",
       "      <td>Ross Neil (pseudonym)</td>\n",
       "      <td>1837.0</td>\n",
       "      <td>1888.0</td>\n",
       "      <td>F</td>\n",
       "      <td>1</td>\n",
       "      <td>True</td>\n",
       "    </tr>\n",
       "    <tr>\n",
       "      <td>3</td>\n",
       "      <td>359</td>\n",
       "      <td>45</td>\n",
       "      <td>Kathleen</td>\n",
       "      <td>3</td>\n",
       "      <td>London</td>\n",
       "      <td>Hurst and Blackett</td>\n",
       "      <td>1869</td>\n",
       "      <td>Isabella</td>\n",
       "      <td>Neil</td>\n",
       "      <td>Harwood</td>\n",
       "      <td>Ross Neil (pseudonym)</td>\n",
       "      <td>1837.0</td>\n",
       "      <td>1888.0</td>\n",
       "      <td>F</td>\n",
       "      <td>1</td>\n",
       "      <td>True</td>\n",
       "    </tr>\n",
       "    <tr>\n",
       "      <td>4</td>\n",
       "      <td>576</td>\n",
       "      <td>45</td>\n",
       "      <td>Raymond's Heroine</td>\n",
       "      <td>3</td>\n",
       "      <td>London</td>\n",
       "      <td>Hurst and Blackett</td>\n",
       "      <td>1867</td>\n",
       "      <td>Isabella</td>\n",
       "      <td>Neil</td>\n",
       "      <td>Harwood</td>\n",
       "      <td>Ross Neil (pseudonym)</td>\n",
       "      <td>1837.0</td>\n",
       "      <td>1888.0</td>\n",
       "      <td>F</td>\n",
       "      <td>1</td>\n",
       "      <td>True</td>\n",
       "    </tr>\n",
       "  </tbody>\n",
       "</table>\n",
       "</div>"
      ],
      "text/plain": [
       "   title_id  author_id                                         title  volumes  \\\n",
       "0         1         45  Abbot's Cleve: or, Can It be Proved? A Novel        3   \n",
       "1       107         45                      Carleton Grange: A Novel        3   \n",
       "2       319         45                            The Heir Expectant        3   \n",
       "3       359         45                                      Kathleen        3   \n",
       "4       576         45                             Raymond's Heroine        3   \n",
       "\n",
       "  publisher_location      publisher_name  publication_year first_name  \\\n",
       "0             London    Tinsley Brothers              1864   Isabella   \n",
       "1             London    Tinsley Brothers              1866   Isabella   \n",
       "2             London  Hurst and Blackett              1870   Isabella   \n",
       "3             London  Hurst and Blackett              1869   Isabella   \n",
       "4             London  Hurst and Blackett              1867   Isabella   \n",
       "\n",
       "  middle_name last_name               alt_name  birth_year  death_year gender  \\\n",
       "0        Neil   Harwood  Ross Neil (pseudonym)      1837.0      1888.0      F   \n",
       "1        Neil   Harwood  Ross Neil (pseudonym)      1837.0      1888.0      F   \n",
       "2        Neil   Harwood  Ross Neil (pseudonym)      1837.0      1888.0      F   \n",
       "3        Neil   Harwood  Ross Neil (pseudonym)      1837.0      1888.0      F   \n",
       "4        Neil   Harwood  Ross Neil (pseudonym)      1837.0      1888.0      F   \n",
       "\n",
       "   pseudonym  female  \n",
       "0          1    True  \n",
       "1          1    True  \n",
       "2          1    True  \n",
       "3          1    True  \n",
       "4          1    True  "
      ]
     },
     "execution_count": 204,
     "metadata": {},
     "output_type": "execute_result"
    }
   ],
   "source": [
    "df.head()"
   ]
  },
  {
   "cell_type": "markdown",
   "metadata": {},
   "source": [
    "### 2. Proportion of Women in Victorian Fiction"
   ]
  },
  {
   "cell_type": "code",
   "execution_count": 205,
   "metadata": {},
   "outputs": [
    {
     "data": {
      "image/png": "[encoded data removed]",
      "text/plain": [
       "<Figure size 432x288 with 1 Axes>"
      ]
     },
     "metadata": {},
     "output_type": "display_data"
    }
   ],
   "source": [
    "sns.set()\n",
    "genders = ['Male', 'Female', 'Unknown']\n",
    "counts = np.array(authors.gender.value_counts())\n",
    "sns.barplot(genders, counts)\n",
    "plt.title('Number of Authors of Victorian Fiction by Gender')\n",
    "plt.show()"
   ]
  },
  {
   "cell_type": "code",
   "execution_count": 206,
   "metadata": {},
   "outputs": [
    {
     "data": {
      "image/png": "[encoded data removed]",
      "text/plain": [
       "<Figure size 432x288 with 1 Axes>"
      ]
     },
     "metadata": {},
     "output_type": "display_data"
    }
   ],
   "source": [
    "plt.hist(authors.loc[authors.gender == 'M', 'birth_year'].dropna(), bins = 40, alpha = 0.7, label = 'Male')\n",
    "plt.hist(authors.loc[authors.gender == 'F', 'birth_year'].dropna(), bins = 40, alpha = 0.6, label = 'Female')\n",
    "plt.legend(loc = 'upper left')\n",
    "plt.title('Victorian Authors Birth Year Distribution by Gender')\n",
    "plt.show()"
   ]
  },
  {
   "cell_type": "markdown",
   "metadata": {},
   "source": [
    "We may observe from the top graph above that overall, there were far more male authors than female authors of victorian fiction. However, the lower graph indicates that over time more and more women became writers of Victorian fiction. We see that towards the end of the era, there were more female writers than male. Further, we see that the number of female authors born each year increases in an exponential manner. This could indicate the gradual opening up of the profession to women over time."
   ]
  },
  {
   "cell_type": "markdown",
   "metadata": {},
   "source": [
    "### 3. Proportion of Titles Written by Women"
   ]
  },
  {
   "cell_type": "code",
   "execution_count": 207,
   "metadata": {},
   "outputs": [
    {
     "data": {
      "image/png": "[encoded data removed]",
      "text/plain": [
       "<Figure size 432x288 with 1 Axes>"
      ]
     },
     "metadata": {},
     "output_type": "display_data"
    }
   ],
   "source": [
    "genders = ['Female', 'Male', 'Unknown']\n",
    "counts = np.array(df.gender.value_counts())\n",
    "sns.barplot(genders, counts)\n",
    "plt.title('Number of Titles of Victorian Fiction Written by Gender')\n",
    "plt.show()"
   ]
  },
  {
   "cell_type": "code",
   "execution_count": 208,
   "metadata": {},
   "outputs": [
    {
     "data": {
      "image/png": "[encoded data removed]",
      "text/plain": [
       "<Figure size 432x288 with 1 Axes>"
      ]
     },
     "metadata": {},
     "output_type": "display_data"
    }
   ],
   "source": [
    "plt.hist(df.loc[df.gender == 'F', 'publication_year'].dropna(), bins = 75, alpha = 0.6, label = 'Female')\n",
    "plt.hist(df.loc[df.gender == 'M', 'publication_year'].dropna(), bins = 75, alpha = 0.7, label = 'Male')\n",
    "plt.legend(loc = 'upper left')\n",
    "plt.title('Victorian Fiction Publication Year Distribution by Gender')\n",
    "plt.show()"
   ]
  },
  {
   "cell_type": "markdown",
   "metadata": {},
   "source": [
    "Above, we see that, although there were fewer female authors of Victorian fiction, women collectively wrote a larger share of the literature than their male counterparts. The second graph is even more interesting as it shows that nearly every year, more titles were published by women than by men, except for in the last few years of the era. This is interesting as the previous charts showed that the number of female authors exceeded the number of male authors by the end. This seems to imply that those early female authors were the most prolific of their cohort, while the later authors did not publish as frequently."
   ]
  },
  {
   "cell_type": "markdown",
   "metadata": {},
   "source": [
    "### 4. Pseudonyms"
   ]
  },
  {
   "cell_type": "code",
   "execution_count": 209,
   "metadata": {},
   "outputs": [
    {
     "data": {
      "image/png": "[encoded data removed]",
      "text/plain": [
       "<Figure size 432x288 with 1 Axes>"
      ]
     },
     "metadata": {},
     "output_type": "display_data"
    }
   ],
   "source": [
    "pseudonym_author = np.array(authors.groupby('gender').sum()['pseudonym'])\n",
    "counts = [1670,2122,417]\n",
    "sns.barplot(['Female', 'Male', 'Unknown'], np.round(100*pseudonym_author/counts,2))\n",
    "plt.title('Percentage of Authors Using a Pseudonym by Gender')\n",
    "plt.show()"
   ]
  },
  {
   "cell_type": "code",
   "execution_count": 210,
   "metadata": {},
   "outputs": [
    {
     "data": {
      "image/png": "[encoded data removed]",
      "text/plain": [
       "<Figure size 432x288 with 1 Axes>"
      ]
     },
     "metadata": {},
     "output_type": "display_data"
    }
   ],
   "source": [
    "pseudonym_title = np.array(df.groupby('gender').sum()['pseudonym'])\n",
    "counts = np.array(df.gender.value_counts())\n",
    "sns.barplot(['Female', 'Male', 'Unknown'], np.round(100*pseudonym_title/counts,2))\n",
    "plt.title('Percentage of Titles Published under a Pseudonym by Gender')\n",
    "plt.show()"
   ]
  },
  {
   "cell_type": "markdown",
   "metadata": {},
   "source": [
    "Knowing that for most of the era of Victorian literature, there were more men than women in writing, we might suspect that women might feel pressured to publish under a male pseudonym. The chart above shows that not only did more female authors publish under a pseudonym than male authors, but larger percentage of the titles by female authors were published under pseudonyms. This suggests that the more prolific female authors were more likely to publish under a pseudonym."
   ]
  },
  {
   "cell_type": "markdown",
   "metadata": {},
   "source": [
    "### 5. Publishing Houses"
   ]
  },
  {
   "cell_type": "code",
   "execution_count": 211,
   "metadata": {},
   "outputs": [
    {
     "name": "stdout",
     "output_type": "stream",
     "text": [
      "Number of Unique Publishing Companies: \n",
      "621\n"
     ]
    }
   ],
   "source": [
    "print('Number of Unique Publishing Companies: ')\n",
    "print(len(df.publisher_name.unique()))"
   ]
  },
  {
   "cell_type": "code",
   "execution_count": 212,
   "metadata": {},
   "outputs": [
    {
     "data": {
      "image/png": "[encoded data removed]",
      "text/plain": [
       "<Figure size 432x288 with 1 Axes>"
      ]
     },
     "metadata": {},
     "output_type": "display_data"
    }
   ],
   "source": [
    "plt.hist(df.publisher_name.value_counts(), bins = 25)\n",
    "plt.xlabel('Number of Books Published')\n",
    "plt.ylabel('Number of Publishing Companies')\n",
    "plt.show()"
   ]
  },
  {
   "cell_type": "code",
   "execution_count": 213,
   "metadata": {},
   "outputs": [
    {
     "name": "stdout",
     "output_type": "stream",
     "text": [
      "Number of Companies which Published More Than 100 Titles: \n",
      "45\n"
     ]
    }
   ],
   "source": [
    "print('Number of Companies which Published More Than 100 Titles: ')\n",
    "print(sum(df.publisher_name.value_counts()>100))"
   ]
  },
  {
   "cell_type": "code",
   "execution_count": 214,
   "metadata": {},
   "outputs": [
    {
     "data": {
      "image/png": "[encoded data removed]",
      "text/plain": [
       "<Figure size 432x288 with 1 Axes>"
      ]
     },
     "metadata": {},
     "output_type": "display_data"
    }
   ],
   "source": [
    "plt.hist(df.publisher_name.value_counts().head(45), bins = 25)\n",
    "plt.xlabel('Number of Books Published')\n",
    "plt.ylabel('Number of Publishing Companies')\n",
    "plt.show()"
   ]
  },
  {
   "cell_type": "code",
   "execution_count": 215,
   "metadata": {},
   "outputs": [
    {
     "data": {
      "image/png": "[encoded data removed]",
      "text/plain": [
       "<Figure size 432x288 with 1 Axes>"
      ]
     },
     "metadata": {},
     "output_type": "display_data"
    }
   ],
   "source": [
    "low_level_num = 621 - sum(df.publisher_name.value_counts()>100)\n",
    "mid_level_num = 621 - sum(df.publisher_name.value_counts()>300) - low_level_num\n",
    "high_level_num = 621 - sum(df.publisher_name.value_counts()>1000) - mid_level_num - low_level_num\n",
    "top_level_num = sum(df.publisher_name.value_counts()>1000)\n",
    "sns.barplot(['Low Volume', 'Mid Volume', 'High Volume', 'Top Volume'], \n",
    "            [low_level_num, mid_level_num, high_level_num, top_level_num])\n",
    "plt.xlabel('Type of Publisher')\n",
    "plt.ylabel('Number of Publishers')\n",
    "plt.show()"
   ]
  },
  {
   "cell_type": "code",
   "execution_count": 216,
   "metadata": {},
   "outputs": [
    {
     "data": {
      "image/png": "[encoded data removed]",
      "text/plain": [
       "<Figure size 432x288 with 1 Axes>"
      ]
     },
     "metadata": {},
     "output_type": "display_data"
    }
   ],
   "source": [
    "low_level_volume = sum(df.publisher_name.value_counts()[621 - low_level_num:])\n",
    "mid_level_volume = sum(df.publisher_name.value_counts()[high_level_num + top_level_num:621 - low_level_num])\n",
    "high_level_volume = sum(df.publisher_name.value_counts()[top_level_num: top_level_num + high_level_num])\n",
    "top_level_volume = sum(df.publisher_name.value_counts()[:top_level_num])\n",
    "sns.barplot(['Low Volume', 'Mid Volume', 'High Volume', 'Top Volume'], \n",
    "            [low_level_volume, mid_level_volume, high_level_volume, top_level_volume])\n",
    "plt.xlabel('Type of Publisher')\n",
    "plt.ylabel('Number of Titles Published')\n",
    "plt.show()"
   ]
  },
  {
   "cell_type": "markdown",
   "metadata": {},
   "source": [
    "Here, we attempt to cluster the 621 publishing houses into groups depending on the number of titles they published. The top graph shows the overall histogram, indicating that most publishers put into print very few titles. After the 100 mark, the histogram bars become vanishingly small. This group of publishers with under 100 titles to their name becomes our low volume group. The second graph gives us a better idea of the remainder of the distribution. There appears to be a larger cohort publishing between 150 and 300 titles, a smaller cluster publishing between 300 and 700 titles apeice, and an elite pair which publish over 1000 titles each. These form our mid-volume, high-volume, and top-volume groups respectively. The third graph above shows the number of publishers in each group, and the final graph indicates the number of titles published by each group."
   ]
  },
  {
   "cell_type": "code",
   "execution_count": 217,
   "metadata": {},
   "outputs": [],
   "source": [
    "publishers = list(df.publisher_name.value_counts().keys())\n",
    "low_volume_publishers = publishers[621 - low_level_num:]\n",
    "mid_volume_publishers = publishers[high_level_num + top_level_num:621 - low_level_num]\n",
    "high_volume_publishers = publishers[top_level_num: top_level_num + high_level_num]\n",
    "top_volume_publishers = publishers[:top_level_num]"
   ]
  },
  {
   "cell_type": "code",
   "execution_count": 218,
   "metadata": {},
   "outputs": [],
   "source": [
    "female_counts_low = []\n",
    "total_counts_low = []\n",
    "for index, publisher in enumerate(low_volume_publishers):\n",
    "    count = 0\n",
    "    IDs = df.loc[df.publisher_name == publisher, 'author_id'].unique()\n",
    "    total_counts_low.append(len(IDs))\n",
    "    for ID in IDs:\n",
    "        if (authors.loc[authors.author_id == ID, 'gender'] == 'F').iloc[0]:\n",
    "            count += 1\n",
    "    female_counts_low.append(count)"
   ]
  },
  {
   "cell_type": "code",
   "execution_count": 219,
   "metadata": {},
   "outputs": [],
   "source": [
    "proportion_low = np.array(female_counts_low) / np.array(total_counts_low)"
   ]
  },
  {
   "cell_type": "code",
   "execution_count": 220,
   "metadata": {},
   "outputs": [
    {
     "data": {
      "image/png": "[encoded data removed]",
      "text/plain": [
       "<Figure size 432x288 with 1 Axes>"
      ]
     },
     "metadata": {},
     "output_type": "display_data"
    }
   ],
   "source": [
    "plt.hist(proportion_low)\n",
    "plt.xlabel('Percent Female')\n",
    "plt.ylabel('Number of Publishing Companies')\n",
    "plt.title('Percent of Female Authors Published at Low Volume Publishing Companies')\n",
    "plt.show()"
   ]
  },
  {
   "cell_type": "code",
   "execution_count": 221,
   "metadata": {},
   "outputs": [],
   "source": [
    "female_counts_mid = []\n",
    "total_counts_mid = []\n",
    "for index, publisher in enumerate(mid_volume_publishers):\n",
    "    count = 0\n",
    "    IDs = df.loc[df.publisher_name == publisher, 'author_id'].unique()\n",
    "    total_counts_mid.append(len(IDs))\n",
    "    for ID in IDs:\n",
    "        if (authors.loc[authors.author_id == ID, 'gender'] == 'F').iloc[0]:\n",
    "            count += 1\n",
    "    female_counts_mid.append(count)"
   ]
  },
  {
   "cell_type": "code",
   "execution_count": 222,
   "metadata": {},
   "outputs": [],
   "source": [
    "proportion_mid = np.array(female_counts_mid) / np.array(total_counts_mid)"
   ]
  },
  {
   "cell_type": "code",
   "execution_count": 223,
   "metadata": {},
   "outputs": [
    {
     "data": {
      "image/png": "[encoded data removed]",
      "text/plain": [
       "<Figure size 432x288 with 1 Axes>"
      ]
     },
     "metadata": {},
     "output_type": "display_data"
    }
   ],
   "source": [
    "plt.hist(proportion_mid)\n",
    "plt.xlabel('Percent Female')\n",
    "plt.ylabel('Number of Publishing Companies')\n",
    "plt.title('Percent of Female Authors Published at Mid Volume Publishing Companies')\n",
    "plt.show()"
   ]
  },
  {
   "cell_type": "code",
   "execution_count": 224,
   "metadata": {},
   "outputs": [],
   "source": [
    "female_counts_high = []\n",
    "total_counts_high = []\n",
    "for index, publisher in enumerate(high_volume_publishers):\n",
    "    count = 0\n",
    "    IDs = df.loc[df.publisher_name == publisher, 'author_id'].unique()\n",
    "    total_counts_high.append(len(IDs))\n",
    "    for ID in IDs:\n",
    "        if (authors.loc[authors.author_id == ID, 'gender'] == 'F').iloc[0]:\n",
    "            count += 1\n",
    "    female_counts_high.append(count)"
   ]
  },
  {
   "cell_type": "code",
   "execution_count": 225,
   "metadata": {},
   "outputs": [],
   "source": [
    "proportion_high = np.array(female_counts_high) / np.array(total_counts_high)"
   ]
  },
  {
   "cell_type": "code",
   "execution_count": 226,
   "metadata": {},
   "outputs": [
    {
     "data": {
      "image/png": "[encoded data removed]",
      "text/plain": [
       "<Figure size 432x288 with 1 Axes>"
      ]
     },
     "metadata": {},
     "output_type": "display_data"
    }
   ],
   "source": [
    "plt.hist(proportion_high)\n",
    "plt.xlabel('Percent Female')\n",
    "plt.ylabel('Number of Publishing Companies')\n",
    "plt.title('Percent of Female Authors Published at High Volume Publishing Companies')\n",
    "plt.show()"
   ]
  },
  {
   "cell_type": "code",
   "execution_count": 227,
   "metadata": {},
   "outputs": [],
   "source": [
    "female_counts_top = []\n",
    "total_counts_top = []\n",
    "for index, publisher in enumerate(top_volume_publishers):\n",
    "    count = 0\n",
    "    IDs = df.loc[df.publisher_name == publisher, 'author_id'].unique()\n",
    "    total_counts_top.append(len(IDs))\n",
    "    for ID in IDs:\n",
    "        if (authors.loc[authors.author_id == ID, 'gender'] == 'F').iloc[0]:\n",
    "            count += 1\n",
    "    female_counts_top.append(count)"
   ]
  },
  {
   "cell_type": "code",
   "execution_count": 228,
   "metadata": {},
   "outputs": [],
   "source": [
    "proportion_top = np.array(female_counts_top) / np.array(total_counts_top)"
   ]
  },
  {
   "cell_type": "code",
   "execution_count": 229,
   "metadata": {},
   "outputs": [
    {
     "data": {
      "image/png": "[encoded data removed]",
      "text/plain": [
       "<Figure size 432x288 with 1 Axes>"
      ]
     },
     "metadata": {},
     "output_type": "display_data"
    }
   ],
   "source": [
    "plt.hist(proportion_top)\n",
    "plt.xlabel('Percent Female')\n",
    "plt.ylabel('Number of Publishing Companies')\n",
    "plt.title('Percent of Female Authors Published at Top Volume Publishing Companies')\n",
    "plt.show()"
   ]
  },
  {
   "cell_type": "markdown",
   "metadata": {},
   "source": [
    "These final graphs show a histogram of the proportion of female authors to total authors at each company, broken up by volume-tier. As we can see, in each graph, the distribution skews heavily to the left, indicating that companies were much more likely to publish male authors than female authors. The exception to this appears to be the top tier publishers, both of whom have over 50% female authors, which may help explain why they were able to publish so many titles."
   ]
  },
  {
   "cell_type": "code",
   "execution_count": null,
   "metadata": {},
   "outputs": [],
   "source": []
  }
 ],
 "metadata": {
  "kernelspec": {
   "display_name": "Python 3",
   "language": "python",
   "name": "python3"
  },
  "language_info": {
   "codemirror_mode": {
    "name": "ipython",
    "version": 3
   },
   "file_extension": ".py",
   "mimetype": "text/x-python",
   "name": "python",
   "nbconvert_exporter": "python",
   "pygments_lexer": "ipython3",
   "version": "3.7.4"
  }
 },
 "nbformat": 4,
 "nbformat_minor": 2
}

{
 "cells": [
  {
   "cell_type": "markdown",
   "metadata": {
    "colab_type": "text",
    "id": "kaCH2xrnSnfa"
   },
   "source": [
    "## Random Forest\n",
    "\n",
    "Random Forest is an ensemble of Decision Trees. With a few exceptions, a `RandomForestClassifier` has all the hyperparameters of a `DecisionTreeClassifier` (to control how trees are grown), plus all the hyperparameters of a `BaggingClassifier` to control the ensemble itself.\n",
    "\n",
    "The Random Forest algorithm introduces extra randomness when growing trees; instead of searching for the very best feature when splitting a node, it searches for the best feature among a random subset of features. This results in a greater tree diversity, which (once again) trades a higher bias for a lower variance, generally yielding an overall better model. The following `BaggingClassifier` is roughly equivalent to the previous `RandomForestClassifier`:"
   ]
  },
  {
   "cell_type": "markdown",
   "metadata": {
    "colab_type": "text",
    "id": "tJ2aGPMZB5X8"
   },
   "source": [
    "## Coronavirus\n",
    "Coronavirus disease (COVID-19) is an infectious disease caused by a new virus.\n",
    "The disease causes respiratory illness (like the flu) with symptoms such as a cough, fever, and in more severe cases, difficulty breathing. You can protect yourself by washing your hands frequently, avoiding touching your face, and avoiding close contact (1 meter or 3 feet) with people who are unwell. An outbreak of COVID-19 started in December 2019 and at the time of the creation of this project continues to spread throughout the world. Many governments are recommending only essential outings to public places and most business that do not serve food or sell essential items are closed. An excellent [spatial dashboard](https://www.arcgis.com/apps/opsdashboard/index.html#/bda7594740fd40299423467b48e9ecf6) built by Johns Hopkins shows the daily confirmed cases by country. \n",
    "\n",
    "In this mini project using the Random Forest Classifier and a dataset from the South Korean cases of COVID-19 provided on [Kaggle](https://www.kaggle.com/kimjihoo/coronavirusdataset) to encourage research on the topic. The goal will be to build a Random Forest Classifier to predict the 'state' of the patient."
   ]
  },
  {
   "cell_type": "markdown",
   "metadata": {
    "colab_type": "text",
    "id": "7PrMkSjBQEMZ"
   },
   "source": [
    "First we load the needed packages and modules into python. Then we will load the data into a pandas data frame for ease of use."
   ]
  },
  {
   "cell_type": "code",
   "execution_count": 2,
   "metadata": {
    "colab": {
     "base_uri": "https://localhost:8080/",
     "height": 71
    },
    "colab_type": "code",
    "executionInfo": {
     "elapsed": 2380,
     "status": "ok",
     "timestamp": 1592213058473,
     "user": {
      "displayName": "Andrew Maguire",
      "photoUrl": "https://lh3.googleusercontent.com/a-/AOh14GjaIpd1sqQPWOc9NJXtyl5fYSonikxEZgshlvloAYk=s64",
      "userId": "13447906511017779027"
     },
     "user_tz": -60
    },
    "id": "X3EhD-LSB5YI",
    "outputId": "1d067909-c6b3-4dcc-88c7-cac54c2cc893"
   },
   "outputs": [],
   "source": [
    "import os\n",
    "import pandas as pd\n",
    "from datetime import datetime,timedelta\n",
    "import seaborn as sns\n",
    "import matplotlib.pyplot as plt\n",
    "import numpy as np\n",
    "%matplotlib inline\n",
    "#import plotly.graph_objects as go\n",
    "from sklearn.experimental import enable_iterative_imputer\n",
    "from sklearn.impute import IterativeImputer\n",
    "from sklearn.ensemble import ExtraTreesRegressor\n",
    "from sklearn.model_selection import train_test_split\n",
    "from sklearn import preprocessing\n",
    "import numpy as np"
   ]
  },
  {
   "cell_type": "code",
   "execution_count": 3,
   "metadata": {
    "colab": {
     "base_uri": "https://localhost:8080/",
     "height": 408
    },
    "colab_type": "code",
    "executionInfo": {
     "elapsed": 2718,
     "status": "error",
     "timestamp": 1592213058823,
     "user": {
      "displayName": "Andrew Maguire",
      "photoUrl": "https://lh3.googleusercontent.com/a-/AOh14GjaIpd1sqQPWOc9NJXtyl5fYSonikxEZgshlvloAYk=s64",
      "userId": "13447906511017779027"
     },
     "user_tz": -60
    },
    "id": "MgkWY6gJSnff",
    "outputId": "a50ae6d2-a73a-45d6-90f4-9f90a997ea1e"
   },
   "outputs": [
    {
     "data": {
      "text/html": [
       "<div>\n",
       "<style scoped>\n",
       "    .dataframe tbody tr th:only-of-type {\n",
       "        vertical-align: middle;\n",
       "    }\n",
       "\n",
       "    .dataframe tbody tr th {\n",
       "        vertical-align: top;\n",
       "    }\n",
       "\n",
       "    .dataframe thead th {\n",
       "        text-align: right;\n",
       "    }\n",
       "</style>\n",
       "<table border=\"1\" class=\"dataframe\">\n",
       "  <thead>\n",
       "    <tr style=\"text-align: right;\">\n",
       "      <th></th>\n",
       "      <th>patient_id</th>\n",
       "      <th>global_num</th>\n",
       "      <th>sex</th>\n",
       "      <th>birth_year</th>\n",
       "      <th>age</th>\n",
       "      <th>country</th>\n",
       "      <th>province</th>\n",
       "      <th>city</th>\n",
       "      <th>disease</th>\n",
       "      <th>infection_case</th>\n",
       "      <th>infection_order</th>\n",
       "      <th>infected_by</th>\n",
       "      <th>contact_number</th>\n",
       "      <th>symptom_onset_date</th>\n",
       "      <th>confirmed_date</th>\n",
       "      <th>released_date</th>\n",
       "      <th>deceased_date</th>\n",
       "      <th>state</th>\n",
       "    </tr>\n",
       "  </thead>\n",
       "  <tbody>\n",
       "    <tr>\n",
       "      <td>0</td>\n",
       "      <td>1000000001</td>\n",
       "      <td>2.0</td>\n",
       "      <td>male</td>\n",
       "      <td>1964.0</td>\n",
       "      <td>50s</td>\n",
       "      <td>Korea</td>\n",
       "      <td>Seoul</td>\n",
       "      <td>Gangseo-gu</td>\n",
       "      <td>NaN</td>\n",
       "      <td>overseas inflow</td>\n",
       "      <td>1.0</td>\n",
       "      <td>NaN</td>\n",
       "      <td>75.0</td>\n",
       "      <td>2020-01-22</td>\n",
       "      <td>2020-01-23</td>\n",
       "      <td>2020-02-05</td>\n",
       "      <td>NaN</td>\n",
       "      <td>released</td>\n",
       "    </tr>\n",
       "    <tr>\n",
       "      <td>1</td>\n",
       "      <td>1000000002</td>\n",
       "      <td>5.0</td>\n",
       "      <td>male</td>\n",
       "      <td>1987.0</td>\n",
       "      <td>30s</td>\n",
       "      <td>Korea</td>\n",
       "      <td>Seoul</td>\n",
       "      <td>Jungnang-gu</td>\n",
       "      <td>NaN</td>\n",
       "      <td>overseas inflow</td>\n",
       "      <td>1.0</td>\n",
       "      <td>NaN</td>\n",
       "      <td>31.0</td>\n",
       "      <td>NaN</td>\n",
       "      <td>2020-01-30</td>\n",
       "      <td>2020-03-02</td>\n",
       "      <td>NaN</td>\n",
       "      <td>released</td>\n",
       "    </tr>\n",
       "    <tr>\n",
       "      <td>2</td>\n",
       "      <td>1000000003</td>\n",
       "      <td>6.0</td>\n",
       "      <td>male</td>\n",
       "      <td>1964.0</td>\n",
       "      <td>50s</td>\n",
       "      <td>Korea</td>\n",
       "      <td>Seoul</td>\n",
       "      <td>Jongno-gu</td>\n",
       "      <td>NaN</td>\n",
       "      <td>contact with patient</td>\n",
       "      <td>2.0</td>\n",
       "      <td>2.002000e+09</td>\n",
       "      <td>17.0</td>\n",
       "      <td>NaN</td>\n",
       "      <td>2020-01-30</td>\n",
       "      <td>2020-02-19</td>\n",
       "      <td>NaN</td>\n",
       "      <td>released</td>\n",
       "    </tr>\n",
       "    <tr>\n",
       "      <td>3</td>\n",
       "      <td>1000000004</td>\n",
       "      <td>7.0</td>\n",
       "      <td>male</td>\n",
       "      <td>1991.0</td>\n",
       "      <td>20s</td>\n",
       "      <td>Korea</td>\n",
       "      <td>Seoul</td>\n",
       "      <td>Mapo-gu</td>\n",
       "      <td>NaN</td>\n",
       "      <td>overseas inflow</td>\n",
       "      <td>1.0</td>\n",
       "      <td>NaN</td>\n",
       "      <td>9.0</td>\n",
       "      <td>2020-01-26</td>\n",
       "      <td>2020-01-30</td>\n",
       "      <td>2020-02-15</td>\n",
       "      <td>NaN</td>\n",
       "      <td>released</td>\n",
       "    </tr>\n",
       "    <tr>\n",
       "      <td>4</td>\n",
       "      <td>1000000005</td>\n",
       "      <td>9.0</td>\n",
       "      <td>female</td>\n",
       "      <td>1992.0</td>\n",
       "      <td>20s</td>\n",
       "      <td>Korea</td>\n",
       "      <td>Seoul</td>\n",
       "      <td>Seongbuk-gu</td>\n",
       "      <td>NaN</td>\n",
       "      <td>contact with patient</td>\n",
       "      <td>2.0</td>\n",
       "      <td>1.000000e+09</td>\n",
       "      <td>2.0</td>\n",
       "      <td>NaN</td>\n",
       "      <td>2020-01-31</td>\n",
       "      <td>2020-02-24</td>\n",
       "      <td>NaN</td>\n",
       "      <td>released</td>\n",
       "    </tr>\n",
       "  </tbody>\n",
       "</table>\n",
       "</div>"
      ],
      "text/plain": [
       "   patient_id  global_num     sex  birth_year  age country province  \\\n",
       "0  1000000001         2.0    male      1964.0  50s   Korea    Seoul   \n",
       "1  1000000002         5.0    male      1987.0  30s   Korea    Seoul   \n",
       "2  1000000003         6.0    male      1964.0  50s   Korea    Seoul   \n",
       "3  1000000004         7.0    male      1991.0  20s   Korea    Seoul   \n",
       "4  1000000005         9.0  female      1992.0  20s   Korea    Seoul   \n",
       "\n",
       "          city disease        infection_case  infection_order   infected_by  \\\n",
       "0   Gangseo-gu     NaN       overseas inflow              1.0           NaN   \n",
       "1  Jungnang-gu     NaN       overseas inflow              1.0           NaN   \n",
       "2    Jongno-gu     NaN  contact with patient              2.0  2.002000e+09   \n",
       "3      Mapo-gu     NaN       overseas inflow              1.0           NaN   \n",
       "4  Seongbuk-gu     NaN  contact with patient              2.0  1.000000e+09   \n",
       "\n",
       "   contact_number symptom_onset_date confirmed_date released_date  \\\n",
       "0            75.0         2020-01-22     2020-01-23    2020-02-05   \n",
       "1            31.0                NaN     2020-01-30    2020-03-02   \n",
       "2            17.0                NaN     2020-01-30    2020-02-19   \n",
       "3             9.0         2020-01-26     2020-01-30    2020-02-15   \n",
       "4             2.0                NaN     2020-01-31    2020-02-24   \n",
       "\n",
       "  deceased_date     state  \n",
       "0           NaN  released  \n",
       "1           NaN  released  \n",
       "2           NaN  released  \n",
       "3           NaN  released  \n",
       "4           NaN  released  "
      ]
     },
     "execution_count": 3,
     "metadata": {},
     "output_type": "execute_result"
    }
   ],
   "source": [
    "df = pd.read_csv('PatientInfo.csv')\n",
    "df.head()"
   ]
  },
  {
   "cell_type": "code",
   "execution_count": 4,
   "metadata": {
    "colab": {},
    "colab_type": "code",
    "id": "XFttWQtmSnfj"
   },
   "outputs": [
    {
     "data": {
      "text/plain": [
       "(2218, 18)"
      ]
     },
     "execution_count": 4,
     "metadata": {},
     "output_type": "execute_result"
    }
   ],
   "source": [
    "df.shape"
   ]
  },
  {
   "cell_type": "code",
   "execution_count": 5,
   "metadata": {
    "colab": {},
    "colab_type": "code",
    "id": "WbBDLHQ8Snfm"
   },
   "outputs": [
    {
     "data": {
      "text/html": [
       "<div>\n",
       "<style scoped>\n",
       "    .dataframe tbody tr th:only-of-type {\n",
       "        vertical-align: middle;\n",
       "    }\n",
       "\n",
       "    .dataframe tbody tr th {\n",
       "        vertical-align: top;\n",
       "    }\n",
       "\n",
       "    .dataframe thead th {\n",
       "        text-align: right;\n",
       "    }\n",
       "</style>\n",
       "<table border=\"1\" class=\"dataframe\">\n",
       "  <thead>\n",
       "    <tr style=\"text-align: right;\">\n",
       "      <th></th>\n",
       "      <th>VarName</th>\n",
       "      <th>NullCount</th>\n",
       "    </tr>\n",
       "  </thead>\n",
       "  <tbody>\n",
       "    <tr>\n",
       "      <td>0</td>\n",
       "      <td>disease</td>\n",
       "      <td>2199</td>\n",
       "    </tr>\n",
       "    <tr>\n",
       "      <td>1</td>\n",
       "      <td>deceased_date</td>\n",
       "      <td>2186</td>\n",
       "    </tr>\n",
       "    <tr>\n",
       "      <td>2</td>\n",
       "      <td>infection_order</td>\n",
       "      <td>2176</td>\n",
       "    </tr>\n",
       "    <tr>\n",
       "      <td>3</td>\n",
       "      <td>symptom_onset_date</td>\n",
       "      <td>2025</td>\n",
       "    </tr>\n",
       "    <tr>\n",
       "      <td>4</td>\n",
       "      <td>released_date</td>\n",
       "      <td>1995</td>\n",
       "    </tr>\n",
       "    <tr>\n",
       "      <td>5</td>\n",
       "      <td>contact_number</td>\n",
       "      <td>1807</td>\n",
       "    </tr>\n",
       "    <tr>\n",
       "      <td>6</td>\n",
       "      <td>infected_by</td>\n",
       "      <td>1749</td>\n",
       "    </tr>\n",
       "    <tr>\n",
       "      <td>7</td>\n",
       "      <td>infection_case</td>\n",
       "      <td>1055</td>\n",
       "    </tr>\n",
       "    <tr>\n",
       "      <td>8</td>\n",
       "      <td>global_num</td>\n",
       "      <td>904</td>\n",
       "    </tr>\n",
       "    <tr>\n",
       "      <td>9</td>\n",
       "      <td>birth_year</td>\n",
       "      <td>454</td>\n",
       "    </tr>\n",
       "    <tr>\n",
       "      <td>10</td>\n",
       "      <td>age</td>\n",
       "      <td>261</td>\n",
       "    </tr>\n",
       "    <tr>\n",
       "      <td>11</td>\n",
       "      <td>sex</td>\n",
       "      <td>145</td>\n",
       "    </tr>\n",
       "    <tr>\n",
       "      <td>12</td>\n",
       "      <td>confirmed_date</td>\n",
       "      <td>141</td>\n",
       "    </tr>\n",
       "    <tr>\n",
       "      <td>13</td>\n",
       "      <td>state</td>\n",
       "      <td>88</td>\n",
       "    </tr>\n",
       "    <tr>\n",
       "      <td>14</td>\n",
       "      <td>city</td>\n",
       "      <td>65</td>\n",
       "    </tr>\n",
       "  </tbody>\n",
       "</table>\n",
       "</div>"
      ],
      "text/plain": [
       "               VarName  NullCount\n",
       "0              disease       2199\n",
       "1        deceased_date       2186\n",
       "2      infection_order       2176\n",
       "3   symptom_onset_date       2025\n",
       "4        released_date       1995\n",
       "5       contact_number       1807\n",
       "6          infected_by       1749\n",
       "7       infection_case       1055\n",
       "8           global_num        904\n",
       "9           birth_year        454\n",
       "10                 age        261\n",
       "11                 sex        145\n",
       "12      confirmed_date        141\n",
       "13               state         88\n",
       "14                city         65"
      ]
     },
     "execution_count": 5,
     "metadata": {},
     "output_type": "execute_result"
    }
   ],
   "source": [
    "#Counts of null values \n",
    "na_df=pd.DataFrame(df.isnull().sum().sort_values(ascending=False)).reset_index()\n",
    "na_df.columns = ['VarName', 'NullCount']\n",
    "na_df[(na_df['NullCount']>0)]"
   ]
  },
  {
   "cell_type": "code",
   "execution_count": 6,
   "metadata": {
    "colab": {},
    "colab_type": "code",
    "id": "6h-J8sjOSnfn"
   },
   "outputs": [
    {
     "data": {
      "text/plain": [
       "isolated    1791\n",
       "released     307\n",
       "deceased      32\n",
       "Name: state, dtype: int64"
      ]
     },
     "execution_count": 6,
     "metadata": {},
     "output_type": "execute_result"
    }
   ],
   "source": [
    "#counts of response variable values\n",
    "df.state.value_counts()"
   ]
  },
  {
   "cell_type": "markdown",
   "metadata": {
    "colab_type": "text",
    "id": "K63g00G9Snfp"
   },
   "source": [
    " **<font color='teal'> Create a new column named 'n_age' which is the calculated age based on the birth year column.</font>**"
   ]
  },
  {
   "cell_type": "code",
   "execution_count": 7,
   "metadata": {
    "colab": {},
    "colab_type": "code",
    "id": "jUDJpYDWSnfq"
   },
   "outputs": [],
   "source": [
    "df['n_age'] = 2020 - df.birth_year"
   ]
  },
  {
   "cell_type": "markdown",
   "metadata": {
    "colab_type": "text",
    "id": "jZ6lM6YESnfs"
   },
   "source": [
    "### Handle Missing values"
   ]
  },
  {
   "cell_type": "markdown",
   "metadata": {
    "colab_type": "text",
    "id": "K2hb5nwuSnfs"
   },
   "source": [
    " **<font color='teal'> Print the number of missing values by column.</font>**"
   ]
  },
  {
   "cell_type": "code",
   "execution_count": 8,
   "metadata": {
    "colab": {},
    "colab_type": "code",
    "id": "cCk6KjMQSnft"
   },
   "outputs": [
    {
     "data": {
      "text/plain": [
       "patient_id               0\n",
       "global_num             904\n",
       "sex                    145\n",
       "birth_year             454\n",
       "age                    261\n",
       "country                  0\n",
       "province                 0\n",
       "city                    65\n",
       "disease               2199\n",
       "infection_case        1055\n",
       "infection_order       2176\n",
       "infected_by           1749\n",
       "contact_number        1807\n",
       "symptom_onset_date    2025\n",
       "confirmed_date         141\n",
       "released_date         1995\n",
       "deceased_date         2186\n",
       "state                   88\n",
       "n_age                  454\n",
       "dtype: int64"
      ]
     },
     "execution_count": 8,
     "metadata": {},
     "output_type": "execute_result"
    }
   ],
   "source": [
    "df.isnull().sum()"
   ]
  },
  {
   "cell_type": "code",
   "execution_count": 9,
   "metadata": {
    "colab": {},
    "colab_type": "code",
    "id": "NJ_nQVqaSnfv"
   },
   "outputs": [
    {
     "name": "stdout",
     "output_type": "stream",
     "text": [
      "<class 'pandas.core.frame.DataFrame'>\n",
      "RangeIndex: 2218 entries, 0 to 2217\n",
      "Data columns (total 19 columns):\n",
      "patient_id            2218 non-null int64\n",
      "global_num            1314 non-null float64\n",
      "sex                   2073 non-null object\n",
      "birth_year            1764 non-null float64\n",
      "age                   1957 non-null object\n",
      "country               2218 non-null object\n",
      "province              2218 non-null object\n",
      "city                  2153 non-null object\n",
      "disease               19 non-null object\n",
      "infection_case        1163 non-null object\n",
      "infection_order       42 non-null float64\n",
      "infected_by           469 non-null float64\n",
      "contact_number        411 non-null float64\n",
      "symptom_onset_date    193 non-null object\n",
      "confirmed_date        2077 non-null object\n",
      "released_date         223 non-null object\n",
      "deceased_date         32 non-null object\n",
      "state                 2130 non-null object\n",
      "n_age                 1764 non-null float64\n",
      "dtypes: float64(6), int64(1), object(12)\n",
      "memory usage: 329.4+ KB\n"
     ]
    }
   ],
   "source": [
    "df.info()"
   ]
  },
  {
   "cell_type": "markdown",
   "metadata": {
    "colab_type": "text",
    "id": "AcsaDahLSnfw"
   },
   "source": [
    " **<font color='teal'> Fill the 'disease' missing values with 0 and remap the True values to 1.</font>**"
   ]
  },
  {
   "cell_type": "code",
   "execution_count": 10,
   "metadata": {
    "colab": {},
    "colab_type": "code",
    "id": "ant3KpUdSnfx"
   },
   "outputs": [],
   "source": [
    "df.disease=df.disease.fillna(0).astype('category').cat.codes"
   ]
  },
  {
   "cell_type": "markdown",
   "metadata": {
    "colab_type": "text",
    "id": "QJmYDRaOSnfz"
   },
   "source": [
    " **<font color='teal'> Fill null values in following columns with their mean: 'global_number','birth_year','infection_order','infected_by'and 'contact_number'</font>**"
   ]
  },
  {
   "cell_type": "code",
   "execution_count": 11,
   "metadata": {
    "colab": {},
    "colab_type": "code",
    "id": "CMBRsPUQSnfz"
   },
   "outputs": [],
   "source": [
    "df.birth_year = df.birth_year.fillna(df.birth_year.mean())\n",
    "df.infection_order = df.infection_order.fillna(df.infection_order.mean())\n",
    "df.infected_by = df.infected_by.fillna(df.infected_by.mean())\n",
    "df.contact_number = df.contact_number.fillna(df.contact_number.mean())\n",
    "df.global_num = df.global_num.fillna(df.global_num.mean())"
   ]
  },
  {
   "cell_type": "markdown",
   "metadata": {
    "colab_type": "text",
    "id": "3fBL1bE_Snf1"
   },
   "source": [
    " **<font color='teal'> Fill the rest of the missing values with any method.</font>**"
   ]
  },
  {
   "cell_type": "code",
   "execution_count": 12,
   "metadata": {
    "colab": {},
    "colab_type": "code",
    "id": "HHzzGQkdSnf2"
   },
   "outputs": [],
   "source": [
    "def impute_na(df):\n",
    "    du = df.select_dtypes(include=['object'])\n",
    "    imp = IterativeImputer(estimator=ExtraTreesRegressor(n_estimators=10,\n",
    "        random_state=0),missing_values=np.nan, sample_posterior=False, \n",
    "        max_iter=10, tol=0.001,n_nearest_features=4, initial_strategy='median')\n",
    "    imp.fit(df._get_numeric_data())\n",
    "    imputed_data = pd.DataFrame(imp.transform(df._get_numeric_data()),\n",
    "                                columns = df._get_numeric_data().columns)\n",
    "    \n",
    "    outdf = imputed_data.merge(du,left_index=True,right_index=True).fillna('missing')\n",
    "    return outdf\n",
    "\n",
    "df = impute_na(df)"
   ]
  },
  {
   "cell_type": "markdown",
   "metadata": {
    "colab_type": "text",
    "id": "ijJeX6opSnf3"
   },
   "source": [
    " **<font color='teal'> Check for any remaining null values.</font>**"
   ]
  },
  {
   "cell_type": "code",
   "execution_count": 13,
   "metadata": {
    "colab": {},
    "colab_type": "code",
    "id": "0uxAGbhdSnf4"
   },
   "outputs": [
    {
     "data": {
      "text/plain": [
       "patient_id            0\n",
       "global_num            0\n",
       "birth_year            0\n",
       "disease               0\n",
       "infection_order       0\n",
       "infected_by           0\n",
       "contact_number        0\n",
       "n_age                 0\n",
       "sex                   0\n",
       "age                   0\n",
       "country               0\n",
       "province              0\n",
       "city                  0\n",
       "infection_case        0\n",
       "symptom_onset_date    0\n",
       "confirmed_date        0\n",
       "released_date         0\n",
       "deceased_date         0\n",
       "state                 0\n",
       "dtype: int64"
      ]
     },
     "execution_count": 13,
     "metadata": {},
     "output_type": "execute_result"
    }
   ],
   "source": [
    "df.isnull().sum()"
   ]
  },
  {
   "cell_type": "code",
   "execution_count": 14,
   "metadata": {
    "colab": {},
    "colab_type": "code",
    "id": "HNW1A5PeSnf6"
   },
   "outputs": [
    {
     "data": {
      "text/html": [
       "<div>\n",
       "<style scoped>\n",
       "    .dataframe tbody tr th:only-of-type {\n",
       "        vertical-align: middle;\n",
       "    }\n",
       "\n",
       "    .dataframe tbody tr th {\n",
       "        vertical-align: top;\n",
       "    }\n",
       "\n",
       "    .dataframe thead th {\n",
       "        text-align: right;\n",
       "    }\n",
       "</style>\n",
       "<table border=\"1\" class=\"dataframe\">\n",
       "  <thead>\n",
       "    <tr style=\"text-align: right;\">\n",
       "      <th></th>\n",
       "      <th>patient_id</th>\n",
       "      <th>global_num</th>\n",
       "      <th>birth_year</th>\n",
       "      <th>disease</th>\n",
       "      <th>infection_order</th>\n",
       "      <th>infected_by</th>\n",
       "      <th>contact_number</th>\n",
       "      <th>n_age</th>\n",
       "      <th>sex</th>\n",
       "      <th>age</th>\n",
       "      <th>country</th>\n",
       "      <th>province</th>\n",
       "      <th>city</th>\n",
       "      <th>infection_case</th>\n",
       "      <th>symptom_onset_date</th>\n",
       "      <th>confirmed_date</th>\n",
       "      <th>released_date</th>\n",
       "      <th>deceased_date</th>\n",
       "      <th>state</th>\n",
       "    </tr>\n",
       "  </thead>\n",
       "  <tbody>\n",
       "    <tr>\n",
       "      <td>0</td>\n",
       "      <td>1.000000e+09</td>\n",
       "      <td>2.0</td>\n",
       "      <td>1964.0</td>\n",
       "      <td>0.0</td>\n",
       "      <td>1.0</td>\n",
       "      <td>2.600789e+09</td>\n",
       "      <td>75.0</td>\n",
       "      <td>56.0</td>\n",
       "      <td>male</td>\n",
       "      <td>50s</td>\n",
       "      <td>Korea</td>\n",
       "      <td>Seoul</td>\n",
       "      <td>Gangseo-gu</td>\n",
       "      <td>overseas inflow</td>\n",
       "      <td>2020-01-22</td>\n",
       "      <td>2020-01-23</td>\n",
       "      <td>2020-02-05</td>\n",
       "      <td>missing</td>\n",
       "      <td>released</td>\n",
       "    </tr>\n",
       "    <tr>\n",
       "      <td>1</td>\n",
       "      <td>1.000000e+09</td>\n",
       "      <td>5.0</td>\n",
       "      <td>1987.0</td>\n",
       "      <td>0.0</td>\n",
       "      <td>1.0</td>\n",
       "      <td>2.600789e+09</td>\n",
       "      <td>31.0</td>\n",
       "      <td>33.0</td>\n",
       "      <td>male</td>\n",
       "      <td>30s</td>\n",
       "      <td>Korea</td>\n",
       "      <td>Seoul</td>\n",
       "      <td>Jungnang-gu</td>\n",
       "      <td>overseas inflow</td>\n",
       "      <td>missing</td>\n",
       "      <td>2020-01-30</td>\n",
       "      <td>2020-03-02</td>\n",
       "      <td>missing</td>\n",
       "      <td>released</td>\n",
       "    </tr>\n",
       "    <tr>\n",
       "      <td>2</td>\n",
       "      <td>1.000000e+09</td>\n",
       "      <td>6.0</td>\n",
       "      <td>1964.0</td>\n",
       "      <td>0.0</td>\n",
       "      <td>2.0</td>\n",
       "      <td>2.002000e+09</td>\n",
       "      <td>17.0</td>\n",
       "      <td>56.0</td>\n",
       "      <td>male</td>\n",
       "      <td>50s</td>\n",
       "      <td>Korea</td>\n",
       "      <td>Seoul</td>\n",
       "      <td>Jongno-gu</td>\n",
       "      <td>contact with patient</td>\n",
       "      <td>missing</td>\n",
       "      <td>2020-01-30</td>\n",
       "      <td>2020-02-19</td>\n",
       "      <td>missing</td>\n",
       "      <td>released</td>\n",
       "    </tr>\n",
       "    <tr>\n",
       "      <td>3</td>\n",
       "      <td>1.000000e+09</td>\n",
       "      <td>7.0</td>\n",
       "      <td>1991.0</td>\n",
       "      <td>0.0</td>\n",
       "      <td>1.0</td>\n",
       "      <td>2.600789e+09</td>\n",
       "      <td>9.0</td>\n",
       "      <td>29.0</td>\n",
       "      <td>male</td>\n",
       "      <td>20s</td>\n",
       "      <td>Korea</td>\n",
       "      <td>Seoul</td>\n",
       "      <td>Mapo-gu</td>\n",
       "      <td>overseas inflow</td>\n",
       "      <td>2020-01-26</td>\n",
       "      <td>2020-01-30</td>\n",
       "      <td>2020-02-15</td>\n",
       "      <td>missing</td>\n",
       "      <td>released</td>\n",
       "    </tr>\n",
       "    <tr>\n",
       "      <td>4</td>\n",
       "      <td>1.000000e+09</td>\n",
       "      <td>9.0</td>\n",
       "      <td>1992.0</td>\n",
       "      <td>0.0</td>\n",
       "      <td>2.0</td>\n",
       "      <td>1.000000e+09</td>\n",
       "      <td>2.0</td>\n",
       "      <td>28.0</td>\n",
       "      <td>female</td>\n",
       "      <td>20s</td>\n",
       "      <td>Korea</td>\n",
       "      <td>Seoul</td>\n",
       "      <td>Seongbuk-gu</td>\n",
       "      <td>contact with patient</td>\n",
       "      <td>missing</td>\n",
       "      <td>2020-01-31</td>\n",
       "      <td>2020-02-24</td>\n",
       "      <td>missing</td>\n",
       "      <td>released</td>\n",
       "    </tr>\n",
       "  </tbody>\n",
       "</table>\n",
       "</div>"
      ],
      "text/plain": [
       "     patient_id  global_num  birth_year  disease  infection_order  \\\n",
       "0  1.000000e+09         2.0      1964.0      0.0              1.0   \n",
       "1  1.000000e+09         5.0      1987.0      0.0              1.0   \n",
       "2  1.000000e+09         6.0      1964.0      0.0              2.0   \n",
       "3  1.000000e+09         7.0      1991.0      0.0              1.0   \n",
       "4  1.000000e+09         9.0      1992.0      0.0              2.0   \n",
       "\n",
       "    infected_by  contact_number  n_age     sex  age country province  \\\n",
       "0  2.600789e+09            75.0   56.0    male  50s   Korea    Seoul   \n",
       "1  2.600789e+09            31.0   33.0    male  30s   Korea    Seoul   \n",
       "2  2.002000e+09            17.0   56.0    male  50s   Korea    Seoul   \n",
       "3  2.600789e+09             9.0   29.0    male  20s   Korea    Seoul   \n",
       "4  1.000000e+09             2.0   28.0  female  20s   Korea    Seoul   \n",
       "\n",
       "          city        infection_case symptom_onset_date confirmed_date  \\\n",
       "0   Gangseo-gu       overseas inflow         2020-01-22     2020-01-23   \n",
       "1  Jungnang-gu       overseas inflow            missing     2020-01-30   \n",
       "2    Jongno-gu  contact with patient            missing     2020-01-30   \n",
       "3      Mapo-gu       overseas inflow         2020-01-26     2020-01-30   \n",
       "4  Seongbuk-gu  contact with patient            missing     2020-01-31   \n",
       "\n",
       "  released_date deceased_date     state  \n",
       "0    2020-02-05       missing  released  \n",
       "1    2020-03-02       missing  released  \n",
       "2    2020-02-19       missing  released  \n",
       "3    2020-02-15       missing  released  \n",
       "4    2020-02-24       missing  released  "
      ]
     },
     "execution_count": 14,
     "metadata": {},
     "output_type": "execute_result"
    }
   ],
   "source": [
    "df.head()"
   ]
  },
  {
   "cell_type": "markdown",
   "metadata": {
    "colab_type": "text",
    "id": "5-uwJRs7Snf8"
   },
   "source": [
    "Remove date columns from the data\n"
   ]
  },
  {
   "cell_type": "code",
   "execution_count": 15,
   "metadata": {
    "colab": {},
    "colab_type": "code",
    "id": "fgaHutKMSnf8"
   },
   "outputs": [],
   "source": [
    "df = df.drop(['symptom_onset_date','confirmed_date','released_date','deceased_date'],axis =1)"
   ]
  },
  {
   "cell_type": "markdown",
   "metadata": {
    "colab_type": "text",
    "id": "RDBxf5ZDB5ZZ"
   },
   "source": [
    "Review the count of unique values by column"
   ]
  },
  {
   "cell_type": "code",
   "execution_count": 16,
   "metadata": {
    "colab": {},
    "colab_type": "code",
    "id": "PIdCkZ4AB5Zf"
   },
   "outputs": [
    {
     "name": "stdout",
     "output_type": "stream",
     "text": [
      "patient_id         2218\n",
      "global_num         1304\n",
      "birth_year           97\n",
      "disease               2\n",
      "infection_order       7\n",
      "infected_by         207\n",
      "contact_number       73\n",
      "n_age                98\n",
      "sex                   3\n",
      "age                  12\n",
      "country               4\n",
      "province             17\n",
      "city                135\n",
      "infection_case       17\n",
      "state                 4\n",
      "dtype: int64\n"
     ]
    }
   ],
   "source": [
    "print(df.nunique())"
   ]
  },
  {
   "cell_type": "markdown",
   "metadata": {
    "colab_type": "text",
    "id": "9oENi5DRB5Zq"
   },
   "source": [
    "Review the percent of unique values by column"
   ]
  },
  {
   "cell_type": "code",
   "execution_count": 17,
   "metadata": {
    "colab": {},
    "colab_type": "code",
    "id": "_IcO33VsB5Zt"
   },
   "outputs": [
    {
     "name": "stdout",
     "output_type": "stream",
     "text": [
      "patient_id         1.000000\n",
      "global_num         0.587917\n",
      "birth_year         0.043733\n",
      "disease            0.000902\n",
      "infection_order    0.003156\n",
      "infected_by        0.093327\n",
      "contact_number     0.032913\n",
      "n_age              0.044184\n",
      "sex                0.001353\n",
      "age                0.005410\n",
      "country            0.001803\n",
      "province           0.007665\n",
      "city               0.060866\n",
      "infection_case     0.007665\n",
      "state              0.001803\n",
      "dtype: float64\n"
     ]
    }
   ],
   "source": [
    "print(df.nunique()/df.shape[0])"
   ]
  },
  {
   "cell_type": "markdown",
   "metadata": {
    "colab_type": "text",
    "id": "rCZHVugqB5Z4"
   },
   "source": [
    "Review the range of values per column"
   ]
  },
  {
   "cell_type": "code",
   "execution_count": 18,
   "metadata": {
    "colab": {},
    "colab_type": "code",
    "id": "Y3zLsGxMB5Z5"
   },
   "outputs": [
    {
     "data": {
      "text/html": [
       "<div>\n",
       "<style scoped>\n",
       "    .dataframe tbody tr th:only-of-type {\n",
       "        vertical-align: middle;\n",
       "    }\n",
       "\n",
       "    .dataframe tbody tr th {\n",
       "        vertical-align: top;\n",
       "    }\n",
       "\n",
       "    .dataframe thead th {\n",
       "        text-align: right;\n",
       "    }\n",
       "</style>\n",
       "<table border=\"1\" class=\"dataframe\">\n",
       "  <thead>\n",
       "    <tr style=\"text-align: right;\">\n",
       "      <th></th>\n",
       "      <th>count</th>\n",
       "      <th>mean</th>\n",
       "      <th>std</th>\n",
       "      <th>min</th>\n",
       "      <th>25%</th>\n",
       "      <th>50%</th>\n",
       "      <th>75%</th>\n",
       "      <th>max</th>\n",
       "    </tr>\n",
       "  </thead>\n",
       "  <tbody>\n",
       "    <tr>\n",
       "      <td>patient_id</td>\n",
       "      <td>2218.0</td>\n",
       "      <td>4.014678e+09</td>\n",
       "      <td>2.192419e+09</td>\n",
       "      <td>1.000000e+09</td>\n",
       "      <td>1.700000e+09</td>\n",
       "      <td>6.001000e+09</td>\n",
       "      <td>6.004000e+09</td>\n",
       "      <td>7.000000e+09</td>\n",
       "    </tr>\n",
       "    <tr>\n",
       "      <td>global_num</td>\n",
       "      <td>2218.0</td>\n",
       "      <td>4.664817e+03</td>\n",
       "      <td>2.211785e+03</td>\n",
       "      <td>1.000000e+00</td>\n",
       "      <td>4.205250e+03</td>\n",
       "      <td>4.664817e+03</td>\n",
       "      <td>5.900250e+03</td>\n",
       "      <td>8.717000e+03</td>\n",
       "    </tr>\n",
       "    <tr>\n",
       "      <td>birth_year</td>\n",
       "      <td>2218.0</td>\n",
       "      <td>1.974989e+03</td>\n",
       "      <td>1.731123e+01</td>\n",
       "      <td>1.916000e+03</td>\n",
       "      <td>1.965000e+03</td>\n",
       "      <td>1.974989e+03</td>\n",
       "      <td>1.988000e+03</td>\n",
       "      <td>2.020000e+03</td>\n",
       "    </tr>\n",
       "    <tr>\n",
       "      <td>disease</td>\n",
       "      <td>2218.0</td>\n",
       "      <td>8.566276e-03</td>\n",
       "      <td>9.217769e-02</td>\n",
       "      <td>0.000000e+00</td>\n",
       "      <td>0.000000e+00</td>\n",
       "      <td>0.000000e+00</td>\n",
       "      <td>0.000000e+00</td>\n",
       "      <td>1.000000e+00</td>\n",
       "    </tr>\n",
       "    <tr>\n",
       "      <td>infection_order</td>\n",
       "      <td>2218.0</td>\n",
       "      <td>2.285714e+00</td>\n",
       "      <td>1.706622e-01</td>\n",
       "      <td>1.000000e+00</td>\n",
       "      <td>2.285714e+00</td>\n",
       "      <td>2.285714e+00</td>\n",
       "      <td>2.285714e+00</td>\n",
       "      <td>6.000000e+00</td>\n",
       "    </tr>\n",
       "    <tr>\n",
       "      <td>infected_by</td>\n",
       "      <td>2218.0</td>\n",
       "      <td>2.600789e+09</td>\n",
       "      <td>7.216328e+08</td>\n",
       "      <td>1.000000e+09</td>\n",
       "      <td>2.600789e+09</td>\n",
       "      <td>2.600789e+09</td>\n",
       "      <td>2.600789e+09</td>\n",
       "      <td>6.113000e+09</td>\n",
       "    </tr>\n",
       "    <tr>\n",
       "      <td>contact_number</td>\n",
       "      <td>2218.0</td>\n",
       "      <td>2.412895e+01</td>\n",
       "      <td>3.917141e+01</td>\n",
       "      <td>0.000000e+00</td>\n",
       "      <td>2.412895e+01</td>\n",
       "      <td>2.412895e+01</td>\n",
       "      <td>2.412895e+01</td>\n",
       "      <td>1.160000e+03</td>\n",
       "    </tr>\n",
       "    <tr>\n",
       "      <td>n_age</td>\n",
       "      <td>2218.0</td>\n",
       "      <td>4.502908e+01</td>\n",
       "      <td>1.731128e+01</td>\n",
       "      <td>0.000000e+00</td>\n",
       "      <td>3.200000e+01</td>\n",
       "      <td>4.510000e+01</td>\n",
       "      <td>5.500000e+01</td>\n",
       "      <td>1.040000e+02</td>\n",
       "    </tr>\n",
       "  </tbody>\n",
       "</table>\n",
       "</div>"
      ],
      "text/plain": [
       "                  count          mean           std           min  \\\n",
       "patient_id       2218.0  4.014678e+09  2.192419e+09  1.000000e+09   \n",
       "global_num       2218.0  4.664817e+03  2.211785e+03  1.000000e+00   \n",
       "birth_year       2218.0  1.974989e+03  1.731123e+01  1.916000e+03   \n",
       "disease          2218.0  8.566276e-03  9.217769e-02  0.000000e+00   \n",
       "infection_order  2218.0  2.285714e+00  1.706622e-01  1.000000e+00   \n",
       "infected_by      2218.0  2.600789e+09  7.216328e+08  1.000000e+09   \n",
       "contact_number   2218.0  2.412895e+01  3.917141e+01  0.000000e+00   \n",
       "n_age            2218.0  4.502908e+01  1.731128e+01  0.000000e+00   \n",
       "\n",
       "                          25%           50%           75%           max  \n",
       "patient_id       1.700000e+09  6.001000e+09  6.004000e+09  7.000000e+09  \n",
       "global_num       4.205250e+03  4.664817e+03  5.900250e+03  8.717000e+03  \n",
       "birth_year       1.965000e+03  1.974989e+03  1.988000e+03  2.020000e+03  \n",
       "disease          0.000000e+00  0.000000e+00  0.000000e+00  1.000000e+00  \n",
       "infection_order  2.285714e+00  2.285714e+00  2.285714e+00  6.000000e+00  \n",
       "infected_by      2.600789e+09  2.600789e+09  2.600789e+09  6.113000e+09  \n",
       "contact_number   2.412895e+01  2.412895e+01  2.412895e+01  1.160000e+03  \n",
       "n_age            3.200000e+01  4.510000e+01  5.500000e+01  1.040000e+02  "
      ]
     },
     "execution_count": 18,
     "metadata": {},
     "output_type": "execute_result"
    }
   ],
   "source": [
    "df.describe().T"
   ]
  },
  {
   "cell_type": "markdown",
   "metadata": {
    "colab_type": "text",
    "id": "AEBFq3hmB5aN"
   },
   "source": [
    "### Check for duplicated rows"
   ]
  },
  {
   "cell_type": "code",
   "execution_count": 19,
   "metadata": {
    "colab": {},
    "colab_type": "code",
    "id": "s9KGFCpkB5aP"
   },
   "outputs": [
    {
     "data": {
      "text/html": [
       "<div>\n",
       "<style scoped>\n",
       "    .dataframe tbody tr th:only-of-type {\n",
       "        vertical-align: middle;\n",
       "    }\n",
       "\n",
       "    .dataframe tbody tr th {\n",
       "        vertical-align: top;\n",
       "    }\n",
       "\n",
       "    .dataframe thead th {\n",
       "        text-align: right;\n",
       "    }\n",
       "</style>\n",
       "<table border=\"1\" class=\"dataframe\">\n",
       "  <thead>\n",
       "    <tr style=\"text-align: right;\">\n",
       "      <th></th>\n",
       "      <th>patient_id</th>\n",
       "      <th>global_num</th>\n",
       "      <th>birth_year</th>\n",
       "      <th>disease</th>\n",
       "      <th>infection_order</th>\n",
       "      <th>infected_by</th>\n",
       "      <th>contact_number</th>\n",
       "      <th>n_age</th>\n",
       "      <th>sex</th>\n",
       "      <th>age</th>\n",
       "      <th>country</th>\n",
       "      <th>province</th>\n",
       "      <th>city</th>\n",
       "      <th>infection_case</th>\n",
       "      <th>state</th>\n",
       "    </tr>\n",
       "  </thead>\n",
       "  <tbody>\n",
       "  </tbody>\n",
       "</table>\n",
       "</div>"
      ],
      "text/plain": [
       "Empty DataFrame\n",
       "Columns: [patient_id, global_num, birth_year, disease, infection_order, infected_by, contact_number, n_age, sex, age, country, province, city, infection_case, state]\n",
       "Index: []"
      ]
     },
     "execution_count": 19,
     "metadata": {},
     "output_type": "execute_result"
    }
   ],
   "source": [
    "duplicateRowsDF = df[df.duplicated()]\n",
    "duplicateRowsDF"
   ]
  },
  {
   "cell_type": "markdown",
   "metadata": {
    "colab_type": "text",
    "id": "fqgyExAvSngG"
   },
   "source": [
    "Print the categorical columns and their associated levels."
   ]
  },
  {
   "cell_type": "code",
   "execution_count": 20,
   "metadata": {
    "colab": {},
    "colab_type": "code",
    "id": "9UgZm2wQSngG"
   },
   "outputs": [
    {
     "data": {
      "text/html": [
       "<div>\n",
       "<style scoped>\n",
       "    .dataframe tbody tr th:only-of-type {\n",
       "        vertical-align: middle;\n",
       "    }\n",
       "\n",
       "    .dataframe tbody tr th {\n",
       "        vertical-align: top;\n",
       "    }\n",
       "\n",
       "    .dataframe thead th {\n",
       "        text-align: right;\n",
       "    }\n",
       "</style>\n",
       "<table border=\"1\" class=\"dataframe\">\n",
       "  <thead>\n",
       "    <tr style=\"text-align: right;\">\n",
       "      <th></th>\n",
       "      <th>VarName</th>\n",
       "      <th>LevelsCount</th>\n",
       "    </tr>\n",
       "  </thead>\n",
       "  <tbody>\n",
       "    <tr>\n",
       "      <td>0</td>\n",
       "      <td>sex</td>\n",
       "      <td>3</td>\n",
       "    </tr>\n",
       "    <tr>\n",
       "      <td>1</td>\n",
       "      <td>age</td>\n",
       "      <td>12</td>\n",
       "    </tr>\n",
       "    <tr>\n",
       "      <td>2</td>\n",
       "      <td>country</td>\n",
       "      <td>4</td>\n",
       "    </tr>\n",
       "    <tr>\n",
       "      <td>3</td>\n",
       "      <td>province</td>\n",
       "      <td>17</td>\n",
       "    </tr>\n",
       "    <tr>\n",
       "      <td>4</td>\n",
       "      <td>city</td>\n",
       "      <td>135</td>\n",
       "    </tr>\n",
       "    <tr>\n",
       "      <td>5</td>\n",
       "      <td>infection_case</td>\n",
       "      <td>17</td>\n",
       "    </tr>\n",
       "    <tr>\n",
       "      <td>6</td>\n",
       "      <td>state</td>\n",
       "      <td>4</td>\n",
       "    </tr>\n",
       "  </tbody>\n",
       "</table>\n",
       "</div>"
      ],
      "text/plain": [
       "          VarName  LevelsCount\n",
       "0             sex            3\n",
       "1             age           12\n",
       "2         country            4\n",
       "3        province           17\n",
       "4            city          135\n",
       "5  infection_case           17\n",
       "6           state            4"
      ]
     },
     "execution_count": 20,
     "metadata": {},
     "output_type": "execute_result"
    }
   ],
   "source": [
    "dfo = df.select_dtypes(include=['object'], exclude=['datetime'])\n",
    "dfo.shape\n",
    "#get levels for all variables\n",
    "vn = pd.DataFrame(dfo.nunique()).reset_index()\n",
    "vn.columns = ['VarName', 'LevelsCount']\n",
    "vn.sort_values(by='LevelsCount', ascending =False)\n",
    "vn"
   ]
  },
  {
   "cell_type": "markdown",
   "metadata": {
    "colab_type": "text",
    "id": "fmJobMOpSngI"
   },
   "source": [
    "**<font color='teal'> Plot the correlation heat map for the features.</font>**"
   ]
  },
  {
   "cell_type": "code",
   "execution_count": 21,
   "metadata": {
    "colab": {},
    "colab_type": "code",
    "id": "ZRJlPqV5B5e5",
    "scrolled": true
   },
   "outputs": [
    {
     "data": {
      "text/html": [
       "<style  type=\"text/css\" >\n",
       "    #T_706cd36c_b0aa_11ea_9063_e0accb8ed2d2row0_col0 {\n",
       "            background-color:  #b40426;\n",
       "            color:  #f1f1f1;\n",
       "        }    #T_706cd36c_b0aa_11ea_9063_e0accb8ed2d2row0_col1 {\n",
       "            background-color:  #3b4cc0;\n",
       "            color:  #f1f1f1;\n",
       "        }    #T_706cd36c_b0aa_11ea_9063_e0accb8ed2d2row0_col2 {\n",
       "            background-color:  #d6dce4;\n",
       "            color:  #000000;\n",
       "        }    #T_706cd36c_b0aa_11ea_9063_e0accb8ed2d2row0_col3 {\n",
       "            background-color:  #4e68d8;\n",
       "            color:  #000000;\n",
       "        }    #T_706cd36c_b0aa_11ea_9063_e0accb8ed2d2row0_col4 {\n",
       "            background-color:  #5875e1;\n",
       "            color:  #000000;\n",
       "        }    #T_706cd36c_b0aa_11ea_9063_e0accb8ed2d2row0_col5 {\n",
       "            background-color:  #bbd1f8;\n",
       "            color:  #000000;\n",
       "        }    #T_706cd36c_b0aa_11ea_9063_e0accb8ed2d2row0_col6 {\n",
       "            background-color:  #3b4cc0;\n",
       "            color:  #f1f1f1;\n",
       "        }    #T_706cd36c_b0aa_11ea_9063_e0accb8ed2d2row0_col7 {\n",
       "            background-color:  #e3d9d3;\n",
       "            color:  #000000;\n",
       "        }    #T_706cd36c_b0aa_11ea_9063_e0accb8ed2d2row1_col0 {\n",
       "            background-color:  #3b4cc0;\n",
       "            color:  #f1f1f1;\n",
       "        }    #T_706cd36c_b0aa_11ea_9063_e0accb8ed2d2row1_col1 {\n",
       "            background-color:  #b40426;\n",
       "            color:  #f1f1f1;\n",
       "        }    #T_706cd36c_b0aa_11ea_9063_e0accb8ed2d2row1_col2 {\n",
       "            background-color:  #dedcdb;\n",
       "            color:  #000000;\n",
       "        }    #T_706cd36c_b0aa_11ea_9063_e0accb8ed2d2row1_col3 {\n",
       "            background-color:  #3b4cc0;\n",
       "            color:  #f1f1f1;\n",
       "        }    #T_706cd36c_b0aa_11ea_9063_e0accb8ed2d2row1_col4 {\n",
       "            background-color:  #5e7de7;\n",
       "            color:  #000000;\n",
       "        }    #T_706cd36c_b0aa_11ea_9063_e0accb8ed2d2row1_col5 {\n",
       "            background-color:  #536edd;\n",
       "            color:  #000000;\n",
       "        }    #T_706cd36c_b0aa_11ea_9063_e0accb8ed2d2row1_col6 {\n",
       "            background-color:  #3d50c3;\n",
       "            color:  #f1f1f1;\n",
       "        }    #T_706cd36c_b0aa_11ea_9063_e0accb8ed2d2row1_col7 {\n",
       "            background-color:  #dbdcde;\n",
       "            color:  #000000;\n",
       "        }    #T_706cd36c_b0aa_11ea_9063_e0accb8ed2d2row2_col0 {\n",
       "            background-color:  #4c66d6;\n",
       "            color:  #000000;\n",
       "        }    #T_706cd36c_b0aa_11ea_9063_e0accb8ed2d2row2_col1 {\n",
       "            background-color:  #5e7de7;\n",
       "            color:  #000000;\n",
       "        }    #T_706cd36c_b0aa_11ea_9063_e0accb8ed2d2row2_col2 {\n",
       "            background-color:  #b40426;\n",
       "            color:  #f1f1f1;\n",
       "        }    #T_706cd36c_b0aa_11ea_9063_e0accb8ed2d2row2_col3 {\n",
       "            background-color:  #3d50c3;\n",
       "            color:  #f1f1f1;\n",
       "        }    #T_706cd36c_b0aa_11ea_9063_e0accb8ed2d2row2_col4 {\n",
       "            background-color:  #4c66d6;\n",
       "            color:  #000000;\n",
       "        }    #T_706cd36c_b0aa_11ea_9063_e0accb8ed2d2row2_col5 {\n",
       "            background-color:  #6a8bef;\n",
       "            color:  #000000;\n",
       "        }    #T_706cd36c_b0aa_11ea_9063_e0accb8ed2d2row2_col6 {\n",
       "            background-color:  #4961d2;\n",
       "            color:  #f1f1f1;\n",
       "        }    #T_706cd36c_b0aa_11ea_9063_e0accb8ed2d2row2_col7 {\n",
       "            background-color:  #3b4cc0;\n",
       "            color:  #f1f1f1;\n",
       "        }    #T_706cd36c_b0aa_11ea_9063_e0accb8ed2d2row3_col0 {\n",
       "            background-color:  #506bda;\n",
       "            color:  #000000;\n",
       "        }    #T_706cd36c_b0aa_11ea_9063_e0accb8ed2d2row3_col1 {\n",
       "            background-color:  #3d50c3;\n",
       "            color:  #f1f1f1;\n",
       "        }    #T_706cd36c_b0aa_11ea_9063_e0accb8ed2d2row3_col2 {\n",
       "            background-color:  #cfdaea;\n",
       "            color:  #000000;\n",
       "        }    #T_706cd36c_b0aa_11ea_9063_e0accb8ed2d2row3_col3 {\n",
       "            background-color:  #b40426;\n",
       "            color:  #f1f1f1;\n",
       "        }    #T_706cd36c_b0aa_11ea_9063_e0accb8ed2d2row3_col4 {\n",
       "            background-color:  #6180e9;\n",
       "            color:  #000000;\n",
       "        }    #T_706cd36c_b0aa_11ea_9063_e0accb8ed2d2row3_col5 {\n",
       "            background-color:  #6180e9;\n",
       "            color:  #000000;\n",
       "        }    #T_706cd36c_b0aa_11ea_9063_e0accb8ed2d2row3_col6 {\n",
       "            background-color:  #4961d2;\n",
       "            color:  #f1f1f1;\n",
       "        }    #T_706cd36c_b0aa_11ea_9063_e0accb8ed2d2row3_col7 {\n",
       "            background-color:  #e9d5cb;\n",
       "            color:  #000000;\n",
       "        }    #T_706cd36c_b0aa_11ea_9063_e0accb8ed2d2row4_col0 {\n",
       "            background-color:  #536edd;\n",
       "            color:  #000000;\n",
       "        }    #T_706cd36c_b0aa_11ea_9063_e0accb8ed2d2row4_col1 {\n",
       "            background-color:  #5977e3;\n",
       "            color:  #000000;\n",
       "        }    #T_706cd36c_b0aa_11ea_9063_e0accb8ed2d2row4_col2 {\n",
       "            background-color:  #d4dbe6;\n",
       "            color:  #000000;\n",
       "        }    #T_706cd36c_b0aa_11ea_9063_e0accb8ed2d2row4_col3 {\n",
       "            background-color:  #5977e3;\n",
       "            color:  #000000;\n",
       "        }    #T_706cd36c_b0aa_11ea_9063_e0accb8ed2d2row4_col4 {\n",
       "            background-color:  #b40426;\n",
       "            color:  #f1f1f1;\n",
       "        }    #T_706cd36c_b0aa_11ea_9063_e0accb8ed2d2row4_col5 {\n",
       "            background-color:  #3b4cc0;\n",
       "            color:  #f1f1f1;\n",
       "        }    #T_706cd36c_b0aa_11ea_9063_e0accb8ed2d2row4_col6 {\n",
       "            background-color:  #4358cb;\n",
       "            color:  #f1f1f1;\n",
       "        }    #T_706cd36c_b0aa_11ea_9063_e0accb8ed2d2row4_col7 {\n",
       "            background-color:  #e5d8d1;\n",
       "            color:  #000000;\n",
       "        }    #T_706cd36c_b0aa_11ea_9063_e0accb8ed2d2row5_col0 {\n",
       "            background-color:  #b7cff9;\n",
       "            color:  #000000;\n",
       "        }    #T_706cd36c_b0aa_11ea_9063_e0accb8ed2d2row5_col1 {\n",
       "            background-color:  #4c66d6;\n",
       "            color:  #000000;\n",
       "        }    #T_706cd36c_b0aa_11ea_9063_e0accb8ed2d2row5_col2 {\n",
       "            background-color:  #e0dbd8;\n",
       "            color:  #000000;\n",
       "        }    #T_706cd36c_b0aa_11ea_9063_e0accb8ed2d2row5_col3 {\n",
       "            background-color:  #5977e3;\n",
       "            color:  #000000;\n",
       "        }    #T_706cd36c_b0aa_11ea_9063_e0accb8ed2d2row5_col4 {\n",
       "            background-color:  #3b4cc0;\n",
       "            color:  #f1f1f1;\n",
       "        }    #T_706cd36c_b0aa_11ea_9063_e0accb8ed2d2row5_col5 {\n",
       "            background-color:  #b40426;\n",
       "            color:  #f1f1f1;\n",
       "        }    #T_706cd36c_b0aa_11ea_9063_e0accb8ed2d2row5_col6 {\n",
       "            background-color:  #4358cb;\n",
       "            color:  #f1f1f1;\n",
       "        }    #T_706cd36c_b0aa_11ea_9063_e0accb8ed2d2row5_col7 {\n",
       "            background-color:  #d9dce1;\n",
       "            color:  #000000;\n",
       "        }    #T_706cd36c_b0aa_11ea_9063_e0accb8ed2d2row6_col0 {\n",
       "            background-color:  #4c66d6;\n",
       "            color:  #000000;\n",
       "        }    #T_706cd36c_b0aa_11ea_9063_e0accb8ed2d2row6_col1 {\n",
       "            background-color:  #506bda;\n",
       "            color:  #000000;\n",
       "        }    #T_706cd36c_b0aa_11ea_9063_e0accb8ed2d2row6_col2 {\n",
       "            background-color:  #dddcdc;\n",
       "            color:  #000000;\n",
       "        }    #T_706cd36c_b0aa_11ea_9063_e0accb8ed2d2row6_col3 {\n",
       "            background-color:  #5977e3;\n",
       "            color:  #000000;\n",
       "        }    #T_706cd36c_b0aa_11ea_9063_e0accb8ed2d2row6_col4 {\n",
       "            background-color:  #5a78e4;\n",
       "            color:  #000000;\n",
       "        }    #T_706cd36c_b0aa_11ea_9063_e0accb8ed2d2row6_col5 {\n",
       "            background-color:  #5a78e4;\n",
       "            color:  #000000;\n",
       "        }    #T_706cd36c_b0aa_11ea_9063_e0accb8ed2d2row6_col6 {\n",
       "            background-color:  #b40426;\n",
       "            color:  #f1f1f1;\n",
       "        }    #T_706cd36c_b0aa_11ea_9063_e0accb8ed2d2row6_col7 {\n",
       "            background-color:  #dddcdc;\n",
       "            color:  #000000;\n",
       "        }    #T_706cd36c_b0aa_11ea_9063_e0accb8ed2d2row7_col0 {\n",
       "            background-color:  #6a8bef;\n",
       "            color:  #000000;\n",
       "        }    #T_706cd36c_b0aa_11ea_9063_e0accb8ed2d2row7_col1 {\n",
       "            background-color:  #5977e3;\n",
       "            color:  #000000;\n",
       "        }    #T_706cd36c_b0aa_11ea_9063_e0accb8ed2d2row7_col2 {\n",
       "            background-color:  #3b4cc0;\n",
       "            color:  #f1f1f1;\n",
       "        }    #T_706cd36c_b0aa_11ea_9063_e0accb8ed2d2row7_col3 {\n",
       "            background-color:  #779af7;\n",
       "            color:  #000000;\n",
       "        }    #T_706cd36c_b0aa_11ea_9063_e0accb8ed2d2row7_col4 {\n",
       "            background-color:  #7699f6;\n",
       "            color:  #000000;\n",
       "        }    #T_706cd36c_b0aa_11ea_9063_e0accb8ed2d2row7_col5 {\n",
       "            background-color:  #5875e1;\n",
       "            color:  #000000;\n",
       "        }    #T_706cd36c_b0aa_11ea_9063_e0accb8ed2d2row7_col6 {\n",
       "            background-color:  #4961d2;\n",
       "            color:  #f1f1f1;\n",
       "        }    #T_706cd36c_b0aa_11ea_9063_e0accb8ed2d2row7_col7 {\n",
       "            background-color:  #b40426;\n",
       "            color:  #f1f1f1;\n",
       "        }</style><table id=\"T_706cd36c_b0aa_11ea_9063_e0accb8ed2d2\" ><thead>    <tr>        <th class=\"blank level0\" ></th>        <th class=\"col_heading level0 col0\" >patient_id</th>        <th class=\"col_heading level0 col1\" >global_num</th>        <th class=\"col_heading level0 col2\" >birth_year</th>        <th class=\"col_heading level0 col3\" >disease</th>        <th class=\"col_heading level0 col4\" >infection_order</th>        <th class=\"col_heading level0 col5\" >infected_by</th>        <th class=\"col_heading level0 col6\" >contact_number</th>        <th class=\"col_heading level0 col7\" >n_age</th>    </tr></thead><tbody>\n",
       "                <tr>\n",
       "                        <th id=\"T_706cd36c_b0aa_11ea_9063_e0accb8ed2d2level0_row0\" class=\"row_heading level0 row0\" >patient_id</th>\n",
       "                        <td id=\"T_706cd36c_b0aa_11ea_9063_e0accb8ed2d2row0_col0\" class=\"data row0 col0\" >1</td>\n",
       "                        <td id=\"T_706cd36c_b0aa_11ea_9063_e0accb8ed2d2row0_col1\" class=\"data row0 col1\" >-0.12</td>\n",
       "                        <td id=\"T_706cd36c_b0aa_11ea_9063_e0accb8ed2d2row0_col2\" class=\"data row0 col2\" >-0.05</td>\n",
       "                        <td id=\"T_706cd36c_b0aa_11ea_9063_e0accb8ed2d2row0_col3\" class=\"data row0 col3\" >-0.04</td>\n",
       "                        <td id=\"T_706cd36c_b0aa_11ea_9063_e0accb8ed2d2row0_col4\" class=\"data row0 col4\" >-0.03</td>\n",
       "                        <td id=\"T_706cd36c_b0aa_11ea_9063_e0accb8ed2d2row0_col5\" class=\"data row0 col5\" >0.3</td>\n",
       "                        <td id=\"T_706cd36c_b0aa_11ea_9063_e0accb8ed2d2row0_col6\" class=\"data row0 col6\" >-0.05</td>\n",
       "                        <td id=\"T_706cd36c_b0aa_11ea_9063_e0accb8ed2d2row0_col7\" class=\"data row0 col7\" >0.05</td>\n",
       "            </tr>\n",
       "            <tr>\n",
       "                        <th id=\"T_706cd36c_b0aa_11ea_9063_e0accb8ed2d2level0_row1\" class=\"row_heading level0 row1\" >global_num</th>\n",
       "                        <td id=\"T_706cd36c_b0aa_11ea_9063_e0accb8ed2d2row1_col0\" class=\"data row1 col0\" >-0.12</td>\n",
       "                        <td id=\"T_706cd36c_b0aa_11ea_9063_e0accb8ed2d2row1_col1\" class=\"data row1 col1\" >1</td>\n",
       "                        <td id=\"T_706cd36c_b0aa_11ea_9063_e0accb8ed2d2row1_col2\" class=\"data row1 col2\" >0.01</td>\n",
       "                        <td id=\"T_706cd36c_b0aa_11ea_9063_e0accb8ed2d2row1_col3\" class=\"data row1 col3\" >-0.11</td>\n",
       "                        <td id=\"T_706cd36c_b0aa_11ea_9063_e0accb8ed2d2row1_col4\" class=\"data row1 col4\" >-0.01</td>\n",
       "                        <td id=\"T_706cd36c_b0aa_11ea_9063_e0accb8ed2d2row1_col5\" class=\"data row1 col5\" >-0.05</td>\n",
       "                        <td id=\"T_706cd36c_b0aa_11ea_9063_e0accb8ed2d2row1_col6\" class=\"data row1 col6\" >-0.04</td>\n",
       "                        <td id=\"T_706cd36c_b0aa_11ea_9063_e0accb8ed2d2row1_col7\" class=\"data row1 col7\" >-0.01</td>\n",
       "            </tr>\n",
       "            <tr>\n",
       "                        <th id=\"T_706cd36c_b0aa_11ea_9063_e0accb8ed2d2level0_row2\" class=\"row_heading level0 row2\" >birth_year</th>\n",
       "                        <td id=\"T_706cd36c_b0aa_11ea_9063_e0accb8ed2d2row2_col0\" class=\"data row2 col0\" >-0.05</td>\n",
       "                        <td id=\"T_706cd36c_b0aa_11ea_9063_e0accb8ed2d2row2_col1\" class=\"data row2 col1\" >0.01</td>\n",
       "                        <td id=\"T_706cd36c_b0aa_11ea_9063_e0accb8ed2d2row2_col2\" class=\"data row2 col2\" >1</td>\n",
       "                        <td id=\"T_706cd36c_b0aa_11ea_9063_e0accb8ed2d2row2_col3\" class=\"data row2 col3\" >-0.1</td>\n",
       "                        <td id=\"T_706cd36c_b0aa_11ea_9063_e0accb8ed2d2row2_col4\" class=\"data row2 col4\" >-0.07</td>\n",
       "                        <td id=\"T_706cd36c_b0aa_11ea_9063_e0accb8ed2d2row2_col5\" class=\"data row2 col5\" >0.03</td>\n",
       "                        <td id=\"T_706cd36c_b0aa_11ea_9063_e0accb8ed2d2row2_col6\" class=\"data row2 col6\" >0</td>\n",
       "                        <td id=\"T_706cd36c_b0aa_11ea_9063_e0accb8ed2d2row2_col7\" class=\"data row2 col7\" >-1</td>\n",
       "            </tr>\n",
       "            <tr>\n",
       "                        <th id=\"T_706cd36c_b0aa_11ea_9063_e0accb8ed2d2level0_row3\" class=\"row_heading level0 row3\" >disease</th>\n",
       "                        <td id=\"T_706cd36c_b0aa_11ea_9063_e0accb8ed2d2row3_col0\" class=\"data row3 col0\" >-0.04</td>\n",
       "                        <td id=\"T_706cd36c_b0aa_11ea_9063_e0accb8ed2d2row3_col1\" class=\"data row3 col1\" >-0.11</td>\n",
       "                        <td id=\"T_706cd36c_b0aa_11ea_9063_e0accb8ed2d2row3_col2\" class=\"data row3 col2\" >-0.1</td>\n",
       "                        <td id=\"T_706cd36c_b0aa_11ea_9063_e0accb8ed2d2row3_col3\" class=\"data row3 col3\" >1</td>\n",
       "                        <td id=\"T_706cd36c_b0aa_11ea_9063_e0accb8ed2d2row3_col4\" class=\"data row3 col4\" >-0</td>\n",
       "                        <td id=\"T_706cd36c_b0aa_11ea_9063_e0accb8ed2d2row3_col5\" class=\"data row3 col5\" >0</td>\n",
       "                        <td id=\"T_706cd36c_b0aa_11ea_9063_e0accb8ed2d2row3_col6\" class=\"data row3 col6\" >0</td>\n",
       "                        <td id=\"T_706cd36c_b0aa_11ea_9063_e0accb8ed2d2row3_col7\" class=\"data row3 col7\" >0.1</td>\n",
       "            </tr>\n",
       "            <tr>\n",
       "                        <th id=\"T_706cd36c_b0aa_11ea_9063_e0accb8ed2d2level0_row4\" class=\"row_heading level0 row4\" >infection_order</th>\n",
       "                        <td id=\"T_706cd36c_b0aa_11ea_9063_e0accb8ed2d2row4_col0\" class=\"data row4 col0\" >-0.03</td>\n",
       "                        <td id=\"T_706cd36c_b0aa_11ea_9063_e0accb8ed2d2row4_col1\" class=\"data row4 col1\" >-0.01</td>\n",
       "                        <td id=\"T_706cd36c_b0aa_11ea_9063_e0accb8ed2d2row4_col2\" class=\"data row4 col2\" >-0.07</td>\n",
       "                        <td id=\"T_706cd36c_b0aa_11ea_9063_e0accb8ed2d2row4_col3\" class=\"data row4 col3\" >-0</td>\n",
       "                        <td id=\"T_706cd36c_b0aa_11ea_9063_e0accb8ed2d2row4_col4\" class=\"data row4 col4\" >1</td>\n",
       "                        <td id=\"T_706cd36c_b0aa_11ea_9063_e0accb8ed2d2row4_col5\" class=\"data row4 col5\" >-0.14</td>\n",
       "                        <td id=\"T_706cd36c_b0aa_11ea_9063_e0accb8ed2d2row4_col6\" class=\"data row4 col6\" >-0.02</td>\n",
       "                        <td id=\"T_706cd36c_b0aa_11ea_9063_e0accb8ed2d2row4_col7\" class=\"data row4 col7\" >0.07</td>\n",
       "            </tr>\n",
       "            <tr>\n",
       "                        <th id=\"T_706cd36c_b0aa_11ea_9063_e0accb8ed2d2level0_row5\" class=\"row_heading level0 row5\" >infected_by</th>\n",
       "                        <td id=\"T_706cd36c_b0aa_11ea_9063_e0accb8ed2d2row5_col0\" class=\"data row5 col0\" >0.3</td>\n",
       "                        <td id=\"T_706cd36c_b0aa_11ea_9063_e0accb8ed2d2row5_col1\" class=\"data row5 col1\" >-0.05</td>\n",
       "                        <td id=\"T_706cd36c_b0aa_11ea_9063_e0accb8ed2d2row5_col2\" class=\"data row5 col2\" >0.03</td>\n",
       "                        <td id=\"T_706cd36c_b0aa_11ea_9063_e0accb8ed2d2row5_col3\" class=\"data row5 col3\" >0</td>\n",
       "                        <td id=\"T_706cd36c_b0aa_11ea_9063_e0accb8ed2d2row5_col4\" class=\"data row5 col4\" >-0.14</td>\n",
       "                        <td id=\"T_706cd36c_b0aa_11ea_9063_e0accb8ed2d2row5_col5\" class=\"data row5 col5\" >1</td>\n",
       "                        <td id=\"T_706cd36c_b0aa_11ea_9063_e0accb8ed2d2row5_col6\" class=\"data row5 col6\" >-0.02</td>\n",
       "                        <td id=\"T_706cd36c_b0aa_11ea_9063_e0accb8ed2d2row5_col7\" class=\"data row5 col7\" >-0.03</td>\n",
       "            </tr>\n",
       "            <tr>\n",
       "                        <th id=\"T_706cd36c_b0aa_11ea_9063_e0accb8ed2d2level0_row6\" class=\"row_heading level0 row6\" >contact_number</th>\n",
       "                        <td id=\"T_706cd36c_b0aa_11ea_9063_e0accb8ed2d2row6_col0\" class=\"data row6 col0\" >-0.05</td>\n",
       "                        <td id=\"T_706cd36c_b0aa_11ea_9063_e0accb8ed2d2row6_col1\" class=\"data row6 col1\" >-0.04</td>\n",
       "                        <td id=\"T_706cd36c_b0aa_11ea_9063_e0accb8ed2d2row6_col2\" class=\"data row6 col2\" >0</td>\n",
       "                        <td id=\"T_706cd36c_b0aa_11ea_9063_e0accb8ed2d2row6_col3\" class=\"data row6 col3\" >0</td>\n",
       "                        <td id=\"T_706cd36c_b0aa_11ea_9063_e0accb8ed2d2row6_col4\" class=\"data row6 col4\" >-0.02</td>\n",
       "                        <td id=\"T_706cd36c_b0aa_11ea_9063_e0accb8ed2d2row6_col5\" class=\"data row6 col5\" >-0.02</td>\n",
       "                        <td id=\"T_706cd36c_b0aa_11ea_9063_e0accb8ed2d2row6_col6\" class=\"data row6 col6\" >1</td>\n",
       "                        <td id=\"T_706cd36c_b0aa_11ea_9063_e0accb8ed2d2row6_col7\" class=\"data row6 col7\" >-0</td>\n",
       "            </tr>\n",
       "            <tr>\n",
       "                        <th id=\"T_706cd36c_b0aa_11ea_9063_e0accb8ed2d2level0_row7\" class=\"row_heading level0 row7\" >n_age</th>\n",
       "                        <td id=\"T_706cd36c_b0aa_11ea_9063_e0accb8ed2d2row7_col0\" class=\"data row7 col0\" >0.05</td>\n",
       "                        <td id=\"T_706cd36c_b0aa_11ea_9063_e0accb8ed2d2row7_col1\" class=\"data row7 col1\" >-0.01</td>\n",
       "                        <td id=\"T_706cd36c_b0aa_11ea_9063_e0accb8ed2d2row7_col2\" class=\"data row7 col2\" >-1</td>\n",
       "                        <td id=\"T_706cd36c_b0aa_11ea_9063_e0accb8ed2d2row7_col3\" class=\"data row7 col3\" >0.1</td>\n",
       "                        <td id=\"T_706cd36c_b0aa_11ea_9063_e0accb8ed2d2row7_col4\" class=\"data row7 col4\" >0.07</td>\n",
       "                        <td id=\"T_706cd36c_b0aa_11ea_9063_e0accb8ed2d2row7_col5\" class=\"data row7 col5\" >-0.03</td>\n",
       "                        <td id=\"T_706cd36c_b0aa_11ea_9063_e0accb8ed2d2row7_col6\" class=\"data row7 col6\" >-0</td>\n",
       "                        <td id=\"T_706cd36c_b0aa_11ea_9063_e0accb8ed2d2row7_col7\" class=\"data row7 col7\" >1</td>\n",
       "            </tr>\n",
       "    </tbody></table>"
      ],
      "text/plain": [
       "<pandas.io.formats.style.Styler at 0x1a1e7cb210>"
      ]
     },
     "execution_count": 21,
     "metadata": {},
     "output_type": "execute_result"
    }
   ],
   "source": [
    "corr = df.corr().round(2)\n",
    "corr.style.background_gradient(cmap='coolwarm')"
   ]
  },
  {
   "cell_type": "markdown",
   "metadata": {
    "colab_type": "text",
    "id": "GYBBJOzBSngK"
   },
   "source": [
    "**<font color='teal'> Plot the boxplots to check for outliers. </font>**"
   ]
  },
  {
   "cell_type": "code",
   "execution_count": 22,
   "metadata": {
    "colab": {},
    "colab_type": "code",
    "id": "uYMmU_szB5fZ"
   },
   "outputs": [
    {
     "data": {
      "image/png": "[encoded data removed]",
      "text/plain": [
       "<Figure size 864x720 with 1 Axes>"
      ]
     },
     "metadata": {
      "needs_background": "light"
     },
     "output_type": "display_data"
    }
   ],
   "source": [
    "boxplot = df.boxplot(grid=False, vert=False,fontsize=15, figsize=(12,10))"
   ]
  },
  {
   "cell_type": "markdown",
   "metadata": {
    "colab_type": "text",
    "id": "BLXW9WpZSngM"
   },
   "source": [
    "**<font color='teal'> Create dummy features for object type features. </font>**"
   ]
  },
  {
   "cell_type": "code",
   "execution_count": null,
   "metadata": {},
   "outputs": [],
   "source": []
  },
  {
   "cell_type": "code",
   "execution_count": 23,
   "metadata": {
    "colab": {},
    "colab_type": "code",
    "id": "aN297TLaSngM"
   },
   "outputs": [],
   "source": [
    "#define the response variable\n",
    "y=df[['state']]\n",
    "\n",
    "#Dummy feature creation\n",
    "def dumdum(df, features_to_exclude):\n",
    "    dfo = df.select_dtypes(include=['object'])\n",
    "    du = pd.get_dummies(dfo.drop(features_to_exclude,axis =1))\n",
    "    dfn = df.select_dtypes(exclude=['object'])\n",
    "    df = dfn.merge(du,left_index=True,right_index=True)\n",
    "    return df   \n",
    "\n",
    "df = dumdum(df.drop(['patient_id'],axis =1) ,['state'])"
   ]
  },
  {
   "cell_type": "markdown",
   "metadata": {
    "colab_type": "text",
    "id": "0uTSQY_liDHj"
   },
   "source": [
    "### Split into test and train subsamples"
   ]
  },
  {
   "cell_type": "code",
   "execution_count": 24,
   "metadata": {
    "colab": {},
    "colab_type": "code",
    "id": "BSkPut0gguds"
   },
   "outputs": [],
   "source": [
    "X=df\n",
    "X_train, X_test, y_train, y_test = train_test_split(X, y, test_size=.8, random_state=1)"
   ]
  },
  {
   "cell_type": "markdown",
   "metadata": {
    "colab_type": "text",
    "id": "TcrOg3y7gRtG"
   },
   "source": [
    "### Scale data in prep for modeling"
   ]
  },
  {
   "cell_type": "code",
   "execution_count": 25,
   "metadata": {
    "colab": {},
    "colab_type": "code",
    "id": "IZL-q-KtAYI6"
   },
   "outputs": [],
   "source": [
    "# build scaler based on training data and apply it to test data to then also scale the test data\n",
    "scaler = preprocessing.StandardScaler().fit(X_train)\n",
    "X_train_scaled=scaler.transform(X_train)\n",
    "X_test_scaled=scaler.transform(X_test)"
   ]
  },
  {
   "cell_type": "code",
   "execution_count": 26,
   "metadata": {
    "colab": {},
    "colab_type": "code",
    "id": "ro3St8nDSngS"
   },
   "outputs": [],
   "source": [
    "from sklearn.metrics import precision_recall_curve\n",
    "from sklearn.metrics import f1_score\n",
    "from sklearn.metrics import auc\n",
    "from sklearn.linear_model import LogisticRegression\n",
    "from matplotlib import pyplot\n",
    "from sklearn.metrics import precision_recall_curve\n",
    "from sklearn.metrics import f1_score\n",
    "from sklearn.metrics import auc\n",
    "from sklearn.linear_model import LogisticRegression\n",
    "from sklearn.metrics import classification_report,confusion_matrix,roc_curve,roc_auc_score\n",
    "from sklearn.metrics import accuracy_score,log_loss\n",
    "from matplotlib import pyplot"
   ]
  },
  {
   "cell_type": "markdown",
   "metadata": {
    "colab_type": "text",
    "id": "ua6ad6eoSngT"
   },
   "source": [
    "### Fit Random Forest Classifier"
   ]
  },
  {
   "cell_type": "code",
   "execution_count": 27,
   "metadata": {
    "colab": {},
    "colab_type": "code",
    "id": "RwFEqFW9SngU"
   },
   "outputs": [
    {
     "name": "stderr",
     "output_type": "stream",
     "text": [
      "/Applications/anaconda3/lib/python3.7/site-packages/ipykernel_launcher.py:4: DataConversionWarning: A column-vector y was passed when a 1d array was expected. Please change the shape of y to (n_samples,), for example using ravel().\n",
      "  after removing the cwd from sys.path.\n"
     ]
    },
    {
     "name": "stdout",
     "output_type": "stream",
     "text": [
      "Training Data Set 1 Random Forest: Accuracy=0.838\n",
      "Training Data Set 1 Random Forest: f1-score=0.800\n"
     ]
    }
   ],
   "source": [
    "import time\n",
    "from sklearn.ensemble import RandomForestClassifier\n",
    "clf = RandomForestClassifier(n_estimators=300, random_state = 1,n_jobs=-1)\n",
    "model_res = clf.fit(X_train_scaled, y_train)\n",
    "y_pred = model_res.predict(X_test_scaled)\n",
    "y_pred_prob = model_res.predict_proba(X_test_scaled)\n",
    "lr_probs = y_pred_prob[:,1]\n",
    "#lr_auc = roc_auc_score(y_test, lr_probs)\n",
    "ac = accuracy_score(y_test, y_pred)\n",
    "#lo = log_loss(y_test, y_pred)\n",
    "f1 = f1_score(y_test, y_pred, average='weighted')\n",
    "cm = confusion_matrix(y_test, y_pred)\n",
    "#print('Training Data Set 1 RandomForest: ROC AUC=%.3f' % (lr_auc))\n",
    "print('Training Data Set 1 Random Forest: Accuracy=%.3f' % (ac))\n",
    "#print('Training Data Set 1 Random Forest: Log loss=%.3f' % (lo))\n",
    "print('Training Data Set 1 Random Forest: f1-score=%.3f' % (f1))"
   ]
  },
  {
   "cell_type": "markdown",
   "metadata": {
    "colab_type": "text",
    "id": "-2oEu7xYSngV"
   },
   "source": [
    "### Create Confusion Matrix plots"
   ]
  },
  {
   "cell_type": "code",
   "execution_count": 28,
   "metadata": {
    "colab": {},
    "colab_type": "code",
    "id": "0v3LdaGXSngW"
   },
   "outputs": [],
   "source": [
    "class_names=['isolated','released','deceased'] # name  of classes"
   ]
  },
  {
   "cell_type": "code",
   "execution_count": 29,
   "metadata": {
    "colab": {},
    "colab_type": "code",
    "id": "weGkaN7pSngY"
   },
   "outputs": [
    {
     "name": "stdout",
     "output_type": "stream",
     "text": [
      "Confusion matrix, without normalization\n",
      "[[  11   12    0    0]\n",
      " [   0 1384    4   46]\n",
      " [   0    4   65    0]\n",
      " [   0  222    0   27]]\n",
      "Normalized confusion matrix\n",
      "[[0.48 0.52 0.   0.  ]\n",
      " [0.   0.97 0.   0.03]\n",
      " [0.   0.06 0.94 0.  ]\n",
      " [0.   0.89 0.   0.11]]\n"
     ]
    },
    {
     "data": {
      "image/png": "[encoded data removed]",
      "text/plain": [
       "<Figure size 432x288 with 2 Axes>"
      ]
     },
     "metadata": {
      "needs_background": "light"
     },
     "output_type": "display_data"
    },
    {
     "data": {
      "image/png": "[encoded data removed]",
      "text/plain": [
       "<Figure size 432x288 with 2 Axes>"
      ]
     },
     "metadata": {
      "needs_background": "light"
     },
     "output_type": "display_data"
    }
   ],
   "source": [
    "import itertools\n",
    "import numpy as np\n",
    "import matplotlib.pyplot as plt\n",
    "\n",
    "from sklearn import svm, datasets\n",
    "from sklearn.model_selection import train_test_split\n",
    "from sklearn.metrics import confusion_matrix\n",
    "\n",
    "def plot_confusion_matrix(cm, classes,\n",
    "                          normalize=False,\n",
    "                          title='Confusion matrix',\n",
    "                          cmap=plt.cm.Blues):\n",
    "    \"\"\"\n",
    "    This function prints and plots the confusion matrix.\n",
    "    Normalization can be applied by setting `normalize=True`.\n",
    "    \"\"\"\n",
    "    if normalize:\n",
    "        cm = cm.astype('float') / cm.sum(axis=1)[:, np.newaxis]\n",
    "        print(\"Normalized confusion matrix\")\n",
    "    else:\n",
    "        print('Confusion matrix, without normalization')\n",
    "\n",
    "    print(cm)\n",
    "\n",
    "    plt.imshow(cm, interpolation='nearest', cmap=cmap)\n",
    "    plt.title(title)\n",
    "    plt.colorbar()\n",
    "    tick_marks = np.arange(len(classes))\n",
    "    plt.xticks(tick_marks, classes, rotation=45)\n",
    "    plt.yticks(tick_marks, classes)\n",
    "\n",
    "    fmt = '.2f' if normalize else 'd'\n",
    "    thresh = cm.max() / 2.\n",
    "    for i, j in itertools.product(range(cm.shape[0]), range(cm.shape[1])):\n",
    "        plt.text(j, i, format(cm[i, j], fmt),\n",
    "                 horizontalalignment=\"center\",\n",
    "                 color=\"white\" if cm[i, j] > thresh else \"black\")\n",
    "\n",
    "    plt.ylabel('True label')\n",
    "    plt.xlabel('Predicted label')\n",
    "    plt.tight_layout()\n",
    "\n",
    "\n",
    "# Compute confusion matrix\n",
    "cnf_matrix = confusion_matrix(y_test, y_pred)\n",
    "np.set_printoptions(precision=2)\n",
    "\n",
    "# Plot non-normalized confusion matrix\n",
    "plt.figure()\n",
    "plot_confusion_matrix(cnf_matrix, classes=class_names,\n",
    "                      title='Confusion matrix, without normalization')\n",
    "#plt.savefig('figures/RF_cm_multi_class.png')\n",
    "\n",
    "# Plot normalized confusion matrix\n",
    "plt.figure()\n",
    "plot_confusion_matrix(cnf_matrix, classes=class_names, normalize=True,\n",
    "                      title='Normalized confusion matrix')\n",
    "#plt.savefig('figures/RF_cm_proportion_multi_class.png', bbox_inches=\"tight\")\n",
    "plt.show()"
   ]
  },
  {
   "cell_type": "markdown",
   "metadata": {
    "colab_type": "text",
    "id": "zlP28CUGSngZ"
   },
   "source": [
    "### Plot feature importances"
   ]
  },
  {
   "cell_type": "code",
   "execution_count": 30,
   "metadata": {
    "colab": {},
    "colab_type": "code",
    "id": "a7uwpD43Snga"
   },
   "outputs": [
    {
     "name": "stdout",
     "output_type": "stream",
     "text": [
      "30\n"
     ]
    },
    {
     "data": {
      "image/png": "[encoded data removed]",
      "text/plain": [
       "<Figure size 720x720 with 1 Axes>"
      ]
     },
     "metadata": {
      "needs_background": "light"
     },
     "output_type": "display_data"
    }
   ],
   "source": [
    "feature_importance = clf.feature_importances_\n",
    "# make importances relative to max importance\n",
    "feature_importance = 100.0 * (feature_importance / feature_importance.max())[:30]\n",
    "sorted_idx = np.argsort(feature_importance)[:30]\n",
    "\n",
    "pos = np.arange(sorted_idx.shape[0]) + .5\n",
    "print(pos.size)\n",
    "sorted_idx.size\n",
    "plt.figure(figsize=(10,10))\n",
    "plt.barh(pos, feature_importance[sorted_idx], align='center')\n",
    "plt.yticks(pos, X.columns[sorted_idx])\n",
    "plt.xlabel('Relative Importance')\n",
    "plt.title('Variable Importance')\n",
    "plt.show()"
   ]
  },
  {
   "cell_type": "code",
   "execution_count": null,
   "metadata": {
    "colab": {},
    "colab_type": "code",
    "id": "_BM1b7xQSngb"
   },
   "outputs": [],
   "source": []
  }
 ],
 "metadata": {
  "colab": {
   "collapsed_sections": [
    "FXGd_NbdB5kn"
   ],
   "name": "RandomForest_Exercise_covid19_answerkey.ipynb",
   "provenance": [],
   "toc_visible": true
  },
  "kernelspec": {
   "display_name": "Python 3",
   "language": "python",
   "name": "python3"
  },
  "language_info": {
   "codemirror_mode": {
    "name": "ipython",
    "version": 3
   },
   "file_extension": ".py",
   "mimetype": "text/x-python",
   "name": "python",
   "nbconvert_exporter": "python",
   "pygments_lexer": "ipython3",
   "version": "3.7.4"
  }
 },
 "nbformat": 4,
 "nbformat_minor": 4
}
